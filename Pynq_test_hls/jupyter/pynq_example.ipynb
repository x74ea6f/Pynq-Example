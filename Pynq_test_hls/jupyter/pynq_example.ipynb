{
 "cells": [
  {
   "cell_type": "markdown",
   "metadata": {},
   "source": [
    "# HLS\n",
    "HLSをやってみよう！\n",
    "\n",
    "- Pynq_test_hls"
   ]
  },
  {
   "cell_type": "code",
   "execution_count": null,
   "metadata": {},
   "outputs": [],
   "source": [
    "from pynq import Overlay\n",
    "OL = Overlay(\"/home/xilinx/pynq/overlays/my_design/top_design_wrapper.bit\")\n",
    "OL.download()\n",
    "\n",
    "## show IPs\n",
    "print(OL.ip_dict.keys())"
   ]
  },
  {
   "cell_type": "markdown",
   "metadata": {},
   "source": [
    "## GPIO\n",
    "とりあえずLチカするのが礼儀。"
   ]
  },
  {
   "cell_type": "code",
   "execution_count": null,
   "metadata": {},
   "outputs": [],
   "source": [
    "from time import sleep\n",
    "## GPIO\n",
    "OL.axi_gpio_1.register_map.GPIO_TRI = 0 ## Output\n",
    "OL.axi_gpio_1.register_map.GPIO_DATA = 0xF\n",
    "\n",
    "lst = [\n",
    "    0x7, 0x3, 0x1, 0x0,\n",
    "    0x1, 0x2, 0x4, 0x8,\n",
    "    0xF, 0x0, 0xF, 0x0,\n",
    "    0xF, 0x0, 0xF, 0x0]\n",
    "\n",
    "for l in lst:\n",
    "    sleep(0.2)\n",
    "    OL.axi_gpio_1.register_map.GPIO_DATA = l\n"
   ]
  },
  {
   "cell_type": "markdown",
   "metadata": {},
   "source": [
    "## IP\n",
    "自作HLS IP(pynq_hls/sample_func.cpp)を動かしてみる。\n",
    "\n",
    "0. GPIOのレジスタのアドレスをIPに設定\n",
    "0. IPをスタートする\n",
    "  - IP内部フロー\n",
    "      - GPIO[0]がsample_in\n",
    "      - GPIO2[31:0]を外部アドレスextMemPtr\n",
    "      - アドレスからリード\n",
    "      - データ処理(32bit反転)\n",
    "      - 結果をレジスタにセット\n",
    "0. IPレジスタから読み出す。"
   ]
  },
  {
   "cell_type": "code",
   "execution_count": null,
   "metadata": {},
   "outputs": [],
   "source": [
    "OL.axi_gpio_0.register_map.GPIO2_DATA = 0x000000FF\n",
    "\n",
    "adr = OL.ip_dict['axi_gpio_0']['phys_addr']\n",
    "offset = OL.axi_gpio_0.register_map.GPIO2_DATA.address\n",
    "data = OL.axi_gpio_0.register_map.GPIO2_DATA\n",
    "print(f\"Address: \", hex(adr), hex(offset), hex(data))\n",
    "\n",
    "OL.pynq_sample_func_0.register_map.baseMemAdr_V = adr + offset\n",
    "## OL.pynq_sample_func_0.register_map.CTRL.AUTO_RESTART = 1\n",
    "OL.pynq_sample_func_0.register_map.CTRL.AP_START = 1\n",
    "sample_data = OL.pynq_sample_func_0.register_map.sample_data0\n",
    "\n",
    "print(f\"SampleData: {sample_data}\")"
   ]
  },
  {
   "cell_type": "markdown",
   "metadata": {},
   "source": [
    "### sample_in, Mode変更"
   ]
  },
  {
   "cell_type": "code",
   "execution_count": null,
   "metadata": {},
   "outputs": [],
   "source": [
    "OL.axi_gpio_0.register_map.GPIO_DATA = 0x1 ## Mode 1 as 2bit Shift\n",
    "\n",
    "OL.pynq_sample_func_0.register_map.CTRL.AP_START = 1\n",
    "\n",
    "sample_data = OL.pynq_sample_func_0.register_map.sample_data0\n",
    "\n",
    "OL.axi_gpio_0.register_map.GPIO_DATA = 0x0 ## Mode 0 as Invert\n",
    "\n",
    "print(f\"SampleData: {sample_data}\")"
   ]
  },
  {
   "cell_type": "markdown",
   "metadata": {},
   "source": [
    "### Zynq通して、DDR"
   ]
  },
  {
   "cell_type": "code",
   "execution_count": null,
   "metadata": {},
   "outputs": [],
   "source": [
    "OL.processing_system7_0.cma_mem_size()/1024/1024"
   ]
  },
  {
   "cell_type": "code",
   "execution_count": null,
   "metadata": {},
   "outputs": [],
   "source": [
    "buf = OL.processing_system7_0.cma_array([1024,1024])\n",
    "## OL.processing_system7_0.cma_get_phy_addr(\n",
    "hex(buf.physical_address)"
   ]
  },
  {
   "cell_type": "code",
   "execution_count": null,
   "metadata": {},
   "outputs": [],
   "source": [
    "buf[0][0] = 0xFF\n",
    "\n",
    "OL.pynq_sample_func_0.register_map.baseMemAdr_V = buf.physical_address\n",
    "OL.pynq_sample_func_0.register_map.CTRL.AP_START = 1\n",
    "sample_data = OL.pynq_sample_func_0.register_map.sample_data0\n",
    "\n",
    "print(f\"Addr: {OL.pynq_sample_func_0.register_map.baseMemAdr_V}\")\n",
    "print(f\"SampleData: {sample_data}\")"
   ]
  },
  {
   "cell_type": "code",
   "execution_count": null,
   "metadata": {},
   "outputs": [],
   "source": []
  }
 ],
 "metadata": {
  "kernelspec": {
   "display_name": "Python 3",
   "language": "python",
   "name": "python3"
  },
  "language_info": {
   "codemirror_mode": {
    "name": "ipython",
    "version": 3
   },
   "file_extension": ".py",
   "mimetype": "text/x-python",
   "name": "python",
   "nbconvert_exporter": "python",
   "pygments_lexer": "ipython3",
   "version": "3.6.5"
  }
 },
 "nbformat": 4,
 "nbformat_minor": 2
}
