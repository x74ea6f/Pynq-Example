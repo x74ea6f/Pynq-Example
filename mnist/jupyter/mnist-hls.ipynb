{
 "cells": [
  {
   "cell_type": "markdown",
   "metadata": {},
   "source": [
    "## Python版"
   ]
  },
  {
   "cell_type": "markdown",
   "metadata": {},
   "source": [
    "元のヤツをgit submodule。  \n",
    "neuralnet_mnist_int.pyをコピー。\n",
    "\n",
    "```\n",
    "git submodule add https://github.com/oreilly-japan/deep-learning-from-scratch.git\n",
    "```"
   ]
  },
  {
   "cell_type": "code",
   "execution_count": 46,
   "metadata": {},
   "outputs": [],
   "source": [
    "import neuralnet_mnist_int\n",
    "import numpy as np\n",
    "import time"
   ]
  },
  {
   "cell_type": "code",
   "execution_count": 2,
   "metadata": {
    "scrolled": true
   },
   "outputs": [],
   "source": [
    "# neuralnet_mnist_int.main()"
   ]
  },
  {
   "cell_type": "code",
   "execution_count": 3,
   "metadata": {},
   "outputs": [],
   "source": [
    "# x_test, y_test = neuralnet_mnist_int.get_data()"
   ]
  },
  {
   "cell_type": "code",
   "execution_count": 4,
   "metadata": {},
   "outputs": [],
   "source": [
    "mode = \"INT_MODE\"\n",
    "x_test, y_test = neuralnet_mnist_int.get_data(mode=mode)\n",
    "network = neuralnet_mnist_int.init_network(mode=mode)\n",
    "py_y_test = np.ndarray(len(x_test), dtype=np.uint8)\n"
   ]
  },
  {
   "cell_type": "code",
   "execution_count": 5,
   "metadata": {},
   "outputs": [
    {
     "name": "stdout",
     "output_type": "stream",
     "text": [
      "CPU times: user 35.7 s, sys: 24.2 ms, total: 35.7 s\n",
      "Wall time: 35.8 s\n"
     ]
    }
   ],
   "source": [
    "%%time\n",
    "## Python版の結果\n",
    "for i in range(len(x_test)):\n",
    "    y,_ = neuralnet_mnist_int.predict(network, x_test[i], mode=mode)\n",
    "    py_y_test[i] = np.argmax(y) # 最も確率の高い要素のインデックスを取得"
   ]
  },
  {
   "cell_type": "code",
   "execution_count": 6,
   "metadata": {},
   "outputs": [
    {
     "data": {
      "text/plain": [
       "array([7, 2, 1, ..., 4, 5, 6], dtype=uint8)"
      ]
     },
     "execution_count": 6,
     "metadata": {},
     "output_type": "execute_result"
    }
   ],
   "source": [
    "py_y_test"
   ]
  },
  {
   "cell_type": "code",
   "execution_count": null,
   "metadata": {},
   "outputs": [],
   "source": []
  },
  {
   "cell_type": "markdown",
   "metadata": {},
   "source": [
    "## HLS版 全データ"
   ]
  },
  {
   "cell_type": "code",
   "execution_count": 50,
   "metadata": {},
   "outputs": [
    {
     "name": "stdout",
     "output_type": "stream",
     "text": [
      "dict_keys(['axi_dma', 'axi_dma_0', 'axi_gpio_0', 'nn_0']) <pynq.xlnk.Xlnk object at 0xafd9e990>\n"
     ]
    }
   ],
   "source": [
    "## FPGA Load\n",
    "from pynq import Overlay\n",
    "OL = Overlay(\"/home/xilinx/pynq/overlays/my_design/test_mnist_wrapper.bit\")\n",
    "OL.download()\n",
    "XLNK = OL.processing_system7_0\n",
    "\n",
    "## show IPs\n",
    "print(OL.ip_dict.keys(), XLNK)"
   ]
  },
  {
   "cell_type": "code",
   "execution_count": 51,
   "metadata": {},
   "outputs": [],
   "source": [
    "# import mnist\n",
    "# import numpy as np\n",
    "# x_test = mnist.test_images()\n",
    "# y_test = mnist.test_labels()\n",
    "# x_test = x_test.reshape(10000, 28*28)\n",
    "\n",
    "import neuralnet_mnist_int\n",
    "import numpy as np\n",
    "x_test, y_test = neuralnet_mnist_int.get_data()\n",
    "x_test = x_test.astype(np.uint8)"
   ]
  },
  {
   "cell_type": "code",
   "execution_count": 52,
   "metadata": {},
   "outputs": [
    {
     "data": {
      "text/plain": [
       "(numpy.ndarray, (10000, 784), dtype('uint8'))"
      ]
     },
     "execution_count": 52,
     "metadata": {},
     "output_type": "execute_result"
    }
   ],
   "source": [
    "type(x_test), x_test.shape, x_test.dtype"
   ]
  },
  {
   "cell_type": "code",
   "execution_count": 53,
   "metadata": {},
   "outputs": [
    {
     "name": "stdout",
     "output_type": "stream",
     "text": [
      "10000\n",
      "0x18900000\n",
      "0x18050000\n"
     ]
    }
   ],
   "source": [
    "## Allocate Memory\n",
    "IMAGE_NUM = x_test.shape[0]\n",
    "# IMAGE_NUM = 30\n",
    "print(IMAGE_NUM)\n",
    "input_buf = XLNK.cma_array([28*28*IMAGE_NUM], np.uint8)\n",
    "print(hex(input_buf.physical_address))\n",
    "output_buf = XLNK.cma_array([1*IMAGE_NUM], np.uint8)\n",
    "print(hex(output_buf.physical_address))"
   ]
  },
  {
   "cell_type": "code",
   "execution_count": 54,
   "metadata": {},
   "outputs": [
    {
     "data": {
      "text/plain": [
       "255"
      ]
     },
     "execution_count": 54,
     "metadata": {},
     "output_type": "execute_result"
    }
   ],
   "source": [
    "## Write output_buf\n",
    "for i in range(IMAGE_NUM):\n",
    "    output_buf[i] = 0xFF\n",
    "output_buf[0]"
   ]
  },
  {
   "cell_type": "code",
   "execution_count": 56,
   "metadata": {},
   "outputs": [],
   "source": [
    "## Write inpu_buf(DDR)\n",
    "XLNK.cma_memcopy(input_buf, x_test, 28*28*IMAGE_NUM)"
   ]
  },
  {
   "cell_type": "code",
   "execution_count": 75,
   "metadata": {},
   "outputs": [],
   "source": [
    "def wait_dma():\n",
    "    i = 0\n",
    "    while i<100:\n",
    "        st = OL.axi_dma_0.register_map.S2MM_DMASR.Halted\n",
    "#         st = OL.axi_dma.register_map.S2MM_DMASR.Idle\n",
    "        if st:\n",
    "            break\n",
    "        i += 1\n",
    "        print(f\"\\rWait for Idle: {i}\", end='')\n",
    "        time.sleep(0.1)\n",
    "    else:\n",
    "        print(f\"\\rTimeOut       \", end='')\n",
    "    print()\n"
   ]
  },
  {
   "cell_type": "code",
   "execution_count": 76,
   "metadata": {},
   "outputs": [
    {
     "data": {
      "text/plain": [
       "Register(AP_START=1, AP_DONE=0, AP_IDLE=0, AP_READY=0, RESERVED_1=0, AUTO_RESTART=1, RESERVED_2=0)"
      ]
     },
     "execution_count": 76,
     "metadata": {},
     "output_type": "execute_result"
    }
   ],
   "source": [
    "## nn START\n",
    "OL.nn_0.register_map.CTRL.AUTO_RESTART = 1\n",
    "OL.nn_0.register_map.CTRL.AP_START = 1\n",
    "OL.nn_0.register_map.CTRL"
   ]
  },
  {
   "cell_type": "code",
   "execution_count": 77,
   "metadata": {},
   "outputs": [
    {
     "name": "stdout",
     "output_type": "stream",
     "text": [
      "Wait for Idle: 54\n",
      "CPU times: user 971 ms, sys: 98.9 ms, total: 1.07 s\n",
      "Wall time: 6.26 s\n"
     ]
    }
   ],
   "source": [
    "%%time\n",
    "## DMA Control\n",
    "## Stop\n",
    "# OL.axi_dma_0.register_map.MM2S_DMACR = 0x0\n",
    "# OL.axi_dma_0.register_map.S2MM_DMACR = 0x0\n",
    "OL.axi_dma_0.register_map.MM2S_DMACR = 0x04\n",
    "OL.axi_dma_0.register_map.S2MM_DMACR = 0x04\n",
    "\n",
    "## Run\n",
    "OL.axi_dma_0.register_map.MM2S_DMACR = 0x1\n",
    "OL.axi_dma_0.register_map.S2MM_DMACR = 0x1\n",
    "\n",
    "## Address\n",
    "OL.axi_dma_0.register_map.MM2S_SA = input_buf.physical_address\n",
    "OL.axi_dma_0.register_map.S2MM_DA = output_buf.physical_address\n",
    "\n",
    "## Size\n",
    "OL.axi_dma_0.register_map.MM2S_LENGTH = 28*28*IMAGE_NUM\n",
    "OL.axi_dma_0.register_map.S2MM_LENGTH = 1*IMAGE_NUM\n",
    "\n",
    "wait_dma()"
   ]
  },
  {
   "cell_type": "code",
   "execution_count": 78,
   "metadata": {},
   "outputs": [
    {
     "data": {
      "text/plain": [
       "(Register(Halted=1, Idle=0, SGIncld=0, DMAIntErr=0, DMASlvErr=0, DMADecErr=0, SGIntErr=0, SGSlvErr=0, SGDecErr=0, IOC_Irq=1, Dly_Irq=0, Err_Irq=0, IRQThresholdSts=0, IRQDelaySts=0),\n",
       " Register(Halted=1, Idle=0, SGIncld=0, DMAIntErr=1, DMASlvErr=0, DMADecErr=0, SGIntErr=0, SGSlvErr=0, SGDecErr=0, IOC_Irq=1, Dly_Irq=0, Err_Irq=1, IRQThresholdSts=0, IRQDelaySts=0))"
      ]
     },
     "execution_count": 78,
     "metadata": {},
     "output_type": "execute_result"
    }
   ],
   "source": [
    "## DMA MM2S Status\n",
    "OL.axi_dma_0.register_map.MM2S_DMASR, OL.axi_dma_0.register_map.S2MM_DMASR "
   ]
  },
  {
   "cell_type": "code",
   "execution_count": 79,
   "metadata": {},
   "outputs": [
    {
     "data": {
      "text/plain": [
       "('0x77a100', '0x77a100')"
      ]
     },
     "execution_count": 79,
     "metadata": {},
     "output_type": "execute_result"
    }
   ],
   "source": [
    "## DMAの転送サイズのビット幅(Buffer Length Register)が小さすぎたことがあるので確認。\n",
    "hex(OL.axi_dma_0.register_map.MM2S_LENGTH), hex(28*28*IMAGE_NUM)"
   ]
  },
  {
   "cell_type": "code",
   "execution_count": 80,
   "metadata": {},
   "outputs": [
    {
     "name": "stdout",
     "output_type": "stream",
     "text": [
      "0.9301\n"
     ]
    }
   ],
   "source": [
    "N = IMAGE_NUM\n",
    "ok = 0\n",
    "for i, (exp, data) in enumerate(zip(y_test, output_buf)):\n",
    "    if exp==data:\n",
    "        ok += 1\n",
    "    ## print(f\"{i}: {exp:02X}, {data:02X}, {exp==data}\")\n",
    "print(ok/N)"
   ]
  },
  {
   "cell_type": "code",
   "execution_count": 81,
   "metadata": {},
   "outputs": [
    {
     "name": "stdout",
     "output_type": "stream",
     "text": [
      "62, 4 9\n",
      "92, 4 9\n",
      "233, 7 8\n",
      "359, 4 9\n",
      "468, 7 2\n",
      "550, 7 9\n",
      "610, 4 2\n",
      "624, 2 8\n",
      "628, 3 9\n",
      "689, 7 9\n",
      "760, 4 9\n",
      "882, 7 9\n",
      "924, 7 2\n",
      "951, 5 4\n",
      "1096, 0 9\n",
      "1204, 2 8\n",
      "1325, 6 8\n",
      "1559, 7 9\n",
      "1790, 7 9\n",
      "1813, 5 8\n",
      "1955, 2 8\n",
      "1969, 6 2\n",
      "2125, 4 9\n",
      "2488, 6 4\n",
      "2586, 5 3\n",
      "2698, 5 3\n",
      "2805, 5 8\n",
      "2919, 5 8\n",
      "3030, 6 2\n",
      "3033, 6 4\n",
      "3240, 3 8\n",
      "3288, 4 9\n",
      "3437, 4 9\n",
      "3475, 7 3\n",
      "3503, 1 8\n",
      "3614, 6 4\n",
      "3688, 6 8\n",
      "3929, 5 8\n",
      "3951, 5 8\n",
      "4059, 5 8\n",
      "4254, 5 3\n",
      "4302, 5 8\n",
      "4391, 7 9\n",
      "4427, 2 8\n",
      "4497, 7 8\n",
      "4575, 0 2\n",
      "4583, 5 8\n",
      "4605, 3 8\n",
      "4761, 1 8\n",
      "4808, 5 3\n",
      "4990, 2 8\n",
      "5009, 4 9\n",
      "5020, 5 8\n",
      "5046, 0 2\n",
      "5183, 4 8\n",
      "5642, 5 8\n",
      "5736, 6 4\n",
      "5862, 5 3\n",
      "5926, 4 9\n",
      "5957, 5 8\n",
      "6002, 6 4\n",
      "6045, 3 9\n",
      "6046, 3 8\n",
      "6081, 5 8\n",
      "6093, 2 8\n",
      "6160, 3 8\n",
      "6432, 3 8\n",
      "6555, 7 9\n",
      "6571, 7 9\n",
      "6577, 7 2\n",
      "6625, 4 8\n",
      "6641, 5 8\n",
      "6651, 5 8\n",
      "7372, 5 3\n",
      "7454, 5 8\n",
      "7542, 5 8\n",
      "8072, 5 3\n",
      "8095, 6 8\n",
      "8183, 5 8\n",
      "8279, 6 8\n",
      "8294, 5 8\n",
      "8406, 4 9\n",
      "8410, 6 8\n",
      "8426, 4 9\n",
      "8509, 1 8\n",
      "9031, 7 2\n",
      "9214, 4 9\n",
      "9426, 6 4\n",
      "9446, 6 4\n",
      "9534, 7 9\n",
      "9544, 7 9\n",
      "9655, 3 2\n",
      "9738, 6 4\n",
      "9764, 4 8\n",
      "9792, 4 9\n",
      "9832, 2 8\n",
      "9901, 4 9\n"
     ]
    }
   ],
   "source": [
    "for i, (exp, data) in enumerate(zip(py_y_test, output_buf)):\n",
    "    if exp!=data:\n",
    "        print(f\"{i}, {exp} {data}\")"
   ]
  },
  {
   "cell_type": "code",
   "execution_count": null,
   "metadata": {},
   "outputs": [],
   "source": []
  },
  {
   "cell_type": "markdown",
   "metadata": {},
   "source": [
    "## 他"
   ]
  },
  {
   "cell_type": "code",
   "execution_count": 82,
   "metadata": {},
   "outputs": [],
   "source": [
    "## まとめ用\n",
    "import re\n",
    "\n",
    "TIME_GET = [\"user\", \"sys\", \"total\", \"Wall time\"]\n",
    "\n",
    "def get_sec(value, unit):\n",
    "    value = float(value)\n",
    "    if unit==\"µs\":\n",
    "        value *= 10**(-6)\n",
    "    elif unit==\"ms\":\n",
    "        value *= 10**(-3)\n",
    "    return value\n",
    "\n",
    "def time_formatter_sec(s):\n",
    "    res = {}\n",
    "    for tg in TIME_GET:\n",
    "        m = re.search(f\"{tg}.*?([0-9.]+)\\s([µm]*s)\", s)\n",
    "        ## print(m)\n",
    "        res[tg] = get_sec(m.group(1), m.group(2))\n",
    "    return res"
   ]
  },
  {
   "cell_type": "code",
   "execution_count": 85,
   "metadata": {},
   "outputs": [
    {
     "name": "stdout",
     "output_type": "stream",
     "text": [
      "user | 36.4000 | 0.9710 |  37.5\n",
      "sys | 0.0154 | 0.0989 |  0.2\n",
      "total | 36.4000 | 1.0700 |  34.0\n",
      "Wall time | 36.5000 | 6.2600 |  5.8\n"
     ]
    }
   ],
   "source": [
    "python_result = \"\"\"\n",
    "CPU times: user 36.4 s, sys: 15.4 ms, total: 36.4 s\n",
    "Wall time: 36.5 s\n",
    "\"\"\"\n",
    "\n",
    "rtl_result = \"\"\"\n",
    "CPU times: user 971 ms, sys: 98.9 ms, total: 1.07 s\n",
    "Wall time: 6.26 s\n",
    "\"\"\"\n",
    "\n",
    "python_time = time_formatter_sec(python_result)\n",
    "rtl_time = time_formatter_sec(rtl_result)\n",
    "\n",
    "for tg in TIME_GET:\n",
    "    print(f\"{tg} | {python_time[tg]:.4f} | {rtl_time[tg]:.4f} |  {python_time[tg] / rtl_time[tg]:.1f}\")"
   ]
  },
  {
   "cell_type": "markdown",
   "metadata": {},
   "source": [
    "## まとめ\n",
    "\n",
    "| Python版 | HLS版 | 倍率\n",
    "-- | -- | --  \n",
    "user | 36.4000 | 0.9710 |  37.5\n",
    "sys | 0.0154 | 0.0989 |  0.2\n",
    "total | 36.4000 | 1.0700 |  34.0\n",
    "Wall time | 36.5000 | 6.2600 |  5.8\n",
    "\n",
    "実行時間で、約30倍。(ばらつきアリ)"
   ]
  },
  {
   "cell_type": "code",
   "execution_count": null,
   "metadata": {},
   "outputs": [],
   "source": []
  }
 ],
 "metadata": {
  "kernelspec": {
   "display_name": "Python 3",
   "language": "python",
   "name": "python3"
  },
  "language_info": {
   "codemirror_mode": {
    "name": "ipython",
    "version": 3
   },
   "file_extension": ".py",
   "mimetype": "text/x-python",
   "name": "python",
   "nbconvert_exporter": "python",
   "pygments_lexer": "ipython3",
   "version": "3.6.5"
  }
 },
 "nbformat": 4,
 "nbformat_minor": 2
}
