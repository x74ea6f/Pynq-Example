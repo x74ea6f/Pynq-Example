{
 "cells": [
  {
   "cell_type": "markdown",
   "metadata": {},
   "source": [
    "## Python版"
   ]
  },
  {
   "cell_type": "markdown",
   "metadata": {},
   "source": [
    "元のヤツをgit submodule。  \n",
    "neuralnet_mnist_int.pyをコピー。\n",
    "\n",
    "```\n",
    "git submodule add https://github.com/oreilly-japan/deep-learning-from-scratch.git\n",
    "```"
   ]
  },
  {
   "cell_type": "code",
   "execution_count": 1,
   "metadata": {},
   "outputs": [],
   "source": [
    "import neuralnet_mnist_int\n",
    "import numpy as np"
   ]
  },
  {
   "cell_type": "code",
   "execution_count": 2,
   "metadata": {
    "scrolled": true
   },
   "outputs": [],
   "source": [
    "# neuralnet_mnist_int.main()"
   ]
  },
  {
   "cell_type": "code",
   "execution_count": 3,
   "metadata": {},
   "outputs": [],
   "source": [
    "# x_test, y_test = neuralnet_mnist_int.get_data()"
   ]
  },
  {
   "cell_type": "code",
   "execution_count": 4,
   "metadata": {},
   "outputs": [],
   "source": [
    "mode = \"INT_MODE\"\n",
    "x_test, y_test = neuralnet_mnist_int.get_data(mode=mode)\n",
    "network = neuralnet_mnist_int.init_network(mode=mode)\n",
    "py_y_test = np.ndarray(len(x_test), dtype=np.uint8)\n"
   ]
  },
  {
   "cell_type": "code",
   "execution_count": 5,
   "metadata": {},
   "outputs": [
    {
     "name": "stdout",
     "output_type": "stream",
     "text": [
      "CPU times: user 35.7 s, sys: 64.1 ms, total: 35.8 s\n",
      "Wall time: 35.8 s\n"
     ]
    }
   ],
   "source": [
    "%%time\n",
    "## Python版の結果\n",
    "for i in range(len(x_test)):\n",
    "    y,_ = neuralnet_mnist_int.predict(network, x_test[i], mode=mode)\n",
    "    py_y_test[i] = np.argmax(y) # 最も確率の高い要素のインデックスを取得"
   ]
  },
  {
   "cell_type": "code",
   "execution_count": 6,
   "metadata": {},
   "outputs": [
    {
     "data": {
      "text/plain": [
       "array([7, 2, 1, ..., 4, 5, 6], dtype=uint8)"
      ]
     },
     "execution_count": 6,
     "metadata": {},
     "output_type": "execute_result"
    }
   ],
   "source": [
    "py_y_test"
   ]
  },
  {
   "cell_type": "code",
   "execution_count": null,
   "metadata": {},
   "outputs": [],
   "source": []
  },
  {
   "cell_type": "markdown",
   "metadata": {},
   "source": [
    "## FPGA版 全データ"
   ]
  },
  {
   "cell_type": "code",
   "execution_count": 7,
   "metadata": {},
   "outputs": [
    {
     "data": {
      "application/javascript": [
       "\n",
       "try {\n",
       "require(['notebook/js/codecell'], function(codecell) {\n",
       "  codecell.CodeCell.options_default.highlight_modes[\n",
       "      'magic_text/x-csrc'] = {'reg':[/^%%microblaze/]};\n",
       "  Jupyter.notebook.events.one('kernel_ready.Kernel', function(){\n",
       "      Jupyter.notebook.get_cells().map(function(cell){\n",
       "          if (cell.cell_type == 'code'){ cell.auto_highlight(); } }) ;\n",
       "  });\n",
       "});\n",
       "} catch (e) {};\n"
      ]
     },
     "metadata": {},
     "output_type": "display_data"
    },
    {
     "name": "stdout",
     "output_type": "stream",
     "text": [
      "dict_keys(['axi_dma', 'axi_gpio_0']) <pynq.xlnk.Xlnk object at 0xafcaf950>\n"
     ]
    }
   ],
   "source": [
    "## FPGA Load\n",
    "from pynq import Overlay\n",
    "OL = Overlay(\"/home/xilinx/pynq/overlays/my_design/test_mnist_wrapper.bit\")\n",
    "OL.download()\n",
    "XLNK = OL.processing_system7_0\n",
    "\n",
    "## show IPs\n",
    "print(OL.ip_dict.keys(), XLNK)"
   ]
  },
  {
   "cell_type": "code",
   "execution_count": 8,
   "metadata": {},
   "outputs": [],
   "source": [
    "# import mnist\n",
    "# import numpy as np\n",
    "# x_test = mnist.test_images()\n",
    "# y_test = mnist.test_labels()\n",
    "# x_test = x_test.reshape(10000, 28*28)\n",
    "\n",
    "import neuralnet_mnist_int\n",
    "import numpy as np\n",
    "x_test, y_test = neuralnet_mnist_int.get_data()\n",
    "x_test = x_test.astype(np.uint8)"
   ]
  },
  {
   "cell_type": "code",
   "execution_count": 9,
   "metadata": {},
   "outputs": [
    {
     "data": {
      "text/plain": [
       "(numpy.ndarray, (10000, 784), dtype('uint8'))"
      ]
     },
     "execution_count": 9,
     "metadata": {},
     "output_type": "execute_result"
    }
   ],
   "source": [
    "type(x_test), x_test.shape, x_test.dtype"
   ]
  },
  {
   "cell_type": "code",
   "execution_count": 10,
   "metadata": {},
   "outputs": [
    {
     "name": "stdout",
     "output_type": "stream",
     "text": [
      "10000\n",
      "0x18100000\n",
      "0x1804c000\n"
     ]
    }
   ],
   "source": [
    "## Allocate Memory\n",
    "IMAGE_NUM = x_test.shape[0]\n",
    "# IMAGE_NUM = 30\n",
    "print(IMAGE_NUM)\n",
    "input_buf = XLNK.cma_array([28*28*IMAGE_NUM], np.uint8)\n",
    "print(hex(input_buf.physical_address))\n",
    "output_buf = XLNK.cma_array([1*IMAGE_NUM], np.uint8)\n",
    "print(hex(output_buf.physical_address))"
   ]
  },
  {
   "cell_type": "code",
   "execution_count": 11,
   "metadata": {},
   "outputs": [
    {
     "data": {
      "text/plain": [
       "255"
      ]
     },
     "execution_count": 11,
     "metadata": {},
     "output_type": "execute_result"
    }
   ],
   "source": [
    "## Write output_buf\n",
    "for i in range(IMAGE_NUM):\n",
    "    output_buf[i] = 0xFF\n",
    "output_buf[0]"
   ]
  },
  {
   "cell_type": "code",
   "execution_count": 12,
   "metadata": {},
   "outputs": [],
   "source": [
    "# %%time\n",
    "# adr  = 0\n",
    "# for i in range(0, IMAGE_NUM):\n",
    "#     for t in test_x[i]:\n",
    "#         input_buf[adr] = t\n",
    "#         adr += 1\n",
    "#     print(f\"\\r i={i}\", end='')\n",
    "# print()"
   ]
  },
  {
   "cell_type": "code",
   "execution_count": 13,
   "metadata": {},
   "outputs": [],
   "source": [
    "## Write inpu_buf(DDR)\n",
    "XLNK.cma_memcopy(input_buf, x_test, 28*28*IMAGE_NUM)"
   ]
  },
  {
   "cell_type": "code",
   "execution_count": 14,
   "metadata": {},
   "outputs": [],
   "source": [
    "# N = 0\n",
    "# for i in input_buf[(28*28)*N:(28*28)*(N+1)]:\n",
    "#     print(f\"{i:02X}\")"
   ]
  },
  {
   "cell_type": "code",
   "execution_count": 15,
   "metadata": {},
   "outputs": [],
   "source": [
    "def wait_dma():\n",
    "    i = 0\n",
    "    while i<100:\n",
    "        st = OL.axi_dma.register_map.S2MM_DMASR.Idle\n",
    "        if st:\n",
    "            break\n",
    "        i += 1\n",
    "        print(f\"\\rWait for Idle: {i}\", end='')\n",
    "    print()\n"
   ]
  },
  {
   "cell_type": "code",
   "execution_count": 16,
   "metadata": {},
   "outputs": [
    {
     "name": "stdout",
     "output_type": "stream",
     "text": [
      "\r",
      "Wait for Idle: 1\r",
      "Wait for Idle: 2\r",
      "Wait for Idle: 3\n",
      "CPU times: user 149 ms, sys: 19.9 ms, total: 169 ms\n",
      "Wall time: 161 ms\n"
     ]
    }
   ],
   "source": [
    "%%time\n",
    "## DMA Control\n",
    "## Stop\n",
    "OL.axi_dma.register_map.MM2S_DMACR = 0x0\n",
    "OL.axi_dma.register_map.S2MM_DMACR = 0x0\n",
    "\n",
    "## Run\n",
    "OL.axi_dma.register_map.MM2S_DMACR = 0x1\n",
    "OL.axi_dma.register_map.S2MM_DMACR = 0x1\n",
    "\n",
    "## Address\n",
    "OL.axi_dma.register_map.MM2S_SA = input_buf.physical_address\n",
    "OL.axi_dma.register_map.S2MM_DA = output_buf.physical_address\n",
    "\n",
    "## Size\n",
    "# OL.axi_dma.register_map.MM2S_LENGTH = 28*28*20\n",
    "# OL.axi_dma.register_map.S2MM_LENGTH = 1*20\n",
    "OL.axi_dma.register_map.MM2S_LENGTH = 28*28*IMAGE_NUM\n",
    "OL.axi_dma.register_map.S2MM_LENGTH = 1*IMAGE_NUM\n",
    "\n",
    "wait_dma()"
   ]
  },
  {
   "cell_type": "code",
   "execution_count": 17,
   "metadata": {},
   "outputs": [
    {
     "data": {
      "text/plain": [
       "(Register(Halted=0, Idle=1, SGIncld=0, DMAIntErr=0, DMASlvErr=0, DMADecErr=0, SGIntErr=0, SGSlvErr=0, SGDecErr=0, IOC_Irq=1, Dly_Irq=0, Err_Irq=0, IRQThresholdSts=0, IRQDelaySts=0),\n",
       " Register(Halted=0, Idle=1, SGIncld=0, DMAIntErr=0, DMASlvErr=0, DMADecErr=0, SGIntErr=0, SGSlvErr=0, SGDecErr=0, IOC_Irq=1, Dly_Irq=0, Err_Irq=0, IRQThresholdSts=0, IRQDelaySts=0))"
      ]
     },
     "execution_count": 17,
     "metadata": {},
     "output_type": "execute_result"
    }
   ],
   "source": [
    "## DMA MM2S Status\n",
    "OL.axi_dma.register_map.MM2S_DMASR, OL.axi_dma.register_map.S2MM_DMASR "
   ]
  },
  {
   "cell_type": "code",
   "execution_count": 18,
   "metadata": {},
   "outputs": [
    {
     "data": {
      "text/plain": [
       "('0x77a100', '0x77a100', '0x4050', '0x77a100')"
      ]
     },
     "execution_count": 18,
     "metadata": {},
     "output_type": "execute_result"
    }
   ],
   "source": [
    "hex(OL.axi_dma.register_map.MM2S_LENGTH), hex(28*28*IMAGE_NUM), hex(28*28*21), hex(28*28*10000)"
   ]
  },
  {
   "cell_type": "code",
   "execution_count": 19,
   "metadata": {},
   "outputs": [
    {
     "name": "stdout",
     "output_type": "stream",
     "text": [
      "0.9325\n"
     ]
    }
   ],
   "source": [
    "N = IMAGE_NUM\n",
    "ok = 0\n",
    "for i, (exp, data) in enumerate(zip(y_test, output_buf)):\n",
    "    if exp==data:\n",
    "        ok += 1\n",
    "    ## print(f\"{i}: {exp:02X}, {data:02X}, {exp==data}\")\n",
    "print(ok/N)"
   ]
  },
  {
   "cell_type": "code",
   "execution_count": 20,
   "metadata": {},
   "outputs": [],
   "source": [
    "for i, (exp, data) in enumerate(zip(py_y_test, output_buf)):\n",
    "    if exp!=data:\n",
    "        print(f\"{i}, {exp} {data}\")"
   ]
  },
  {
   "cell_type": "code",
   "execution_count": null,
   "metadata": {},
   "outputs": [],
   "source": []
  },
  {
   "cell_type": "markdown",
   "metadata": {},
   "source": [
    "## 他"
   ]
  },
  {
   "cell_type": "code",
   "execution_count": 37,
   "metadata": {},
   "outputs": [],
   "source": [
    "## まとめ用\n",
    "import re\n",
    "\n",
    "TIME_GET = [\"user\", \"sys\", \"total\", \"Wall time\"]\n",
    "\n",
    "def get_sec(value, unit):\n",
    "    value = float(value)\n",
    "    if unit==\"µs\":\n",
    "        value *= 10**(-6)\n",
    "    elif unit==\"ms\":\n",
    "        value *= 10**(-3)\n",
    "    return value\n",
    "\n",
    "def time_formatter_sec(s):\n",
    "    res = {}\n",
    "    for tg in TIME_GET:\n",
    "        m = re.search(f\"{tg}.*?([0-9.]+)\\s([µm]*s)\", s)\n",
    "        ## print(m)\n",
    "        res[tg] = get_sec(m.group(1), m.group(2))\n",
    "    return res"
   ]
  },
  {
   "cell_type": "code",
   "execution_count": 66,
   "metadata": {},
   "outputs": [
    {
     "name": "stdout",
     "output_type": "stream",
     "text": [
      "user | 36.4000 | 0.1910 | 0.0948 |  384.0\n",
      "sys | 0.0154 | 0.0507 | 0.0284 |  0.5\n",
      "total | 36.4000 | 0.2420 | 0.1230 |  295.9\n",
      "Wall time | 36.5000 | 0.2460 | 0.1110 |  328.8\n"
     ]
    }
   ],
   "source": [
    "python_result = \"\"\"\n",
    "CPU times: user 36.4 s, sys: 15.4 ms, total: 36.4 s\n",
    "Wall time: 36.5 s\n",
    "\"\"\"\n",
    "\n",
    "rtl_para1_result = \"\"\"\n",
    "CPU times: user 191 ms, sys: 50.7 ms, total: 242 ms\n",
    "Wall time: 246 ms\n",
    "\"\"\"\n",
    "\n",
    "rtl_result = \"\"\"\n",
    "CPU times: user 94.8 ms, sys: 28.4 ms, total: 123 ms\n",
    "Wall time: 111 ms\n",
    "\"\"\"\n",
    "\n",
    "python_time = time_formatter_sec(python_result)\n",
    "rtl_para1_time = time_formatter_sec(rtl_para1_result)\n",
    "rtl_time = time_formatter_sec(rtl_result)\n",
    "\n",
    "for tg in TIME_GET:\n",
    "    print(f\"{tg} | {python_time[tg]:.4f} | {rtl_para1_time[tg]:.4f} | {rtl_time[tg]:.4f} |  {python_time[tg] / rtl_time[tg]:.1f}\")"
   ]
  },
  {
   "cell_type": "markdown",
   "metadata": {},
   "source": [
    "## まとめ\n",
    "\n",
    "| Python版 | RTL(para1)版 | RTL版 | 倍率\n",
    "-- | -- | --  \n",
    "user | 36.4000 | 0.1910 | 0.0948 |  384.0\n",
    "sys | 0.0154 | 0.0507 | 0.0284 |  0.5\n",
    "total | 36.4000 | 0.2420 | 0.1230 |  295.9\n",
    "Wall time | 36.5000 | 0.2460 | 0.1110 |  328.8\n",
    "\n",
    "実行時間で、約300倍。(ばらつきアリ)"
   ]
  },
  {
   "cell_type": "markdown",
   "metadata": {},
   "source": [
    "### Resource\n",
    "※参考値(git tag: mnist-v.1.0)\n",
    "\n",
    "Resource | Utilization | Available | Utilization %\n",
    "-- | --\n",
    "LUT | 37138 | 53200 | 69.808266\n",
    "LUTRAM | 562 | 17400 | 3.229885\n",
    "FF | 13565 | 106400 | 12.74906\n",
    "BRAM | 29 | 140 | 20.714287\n",
    "\n",
    "\n",
    "Name | Slice LUTs | Slice Registers | F7 Muxes | F8 Muxes | Slice | LUT as Logic | LUT as Memory | Block RAM Tile\n",
    "--|--\n",
    "test_mnist_wrapper | 37138 | 13565 | 430 | 101 | 11026 | 36576 | 562 | 29\n",
    "test_mnist_i (test_mnist) | 36682 | 12826 | 430 | 101 | 10808 | 36144 | 538 | 29\n",
    "**nn_axis_0 (test_mnist_nn_axis_0_0)** | 31442 | 5395 | 394 | 101 | 8820 | 31442 | 0 | 25\n",
    "rst_ps7_0_50M (test_mnist_rst_ps7_0_50M_0) | 17 | 33 | 0 | 0 | 11 | 16 | 1 | 0\n",
    "ps7_0_axi_periph (test_mnist_ps7_0_axi_periph_0) | 952 | 1193 | 0 | 0 | 366 | 830 | 122 | 0\n",
    "processing_system7_0 (test_mnist_processing_system7_0_0) | 0 | 0 | 0 | 0 | 0 | 0 | 0 | 0\n",
    "ila_2 (test_mnist_ila_2_0) | 905 | 1452 | 19 | 0 | 420 | 793 | 112 | 0.5\n",
    "ila_0 (test_mnist_ila_0_0) | 940 | 1574 | 17 | 0 | 524 | 800 | 140 | 1.5\n",
    "axi_mem_intercon (test_mnist_axi_mem_intercon_0) | 969 | 1109 | 0 | 0 | 340 | 914 | 55 | 0\n",
    "axi_gpio_0 (test_mnist_axi_gpio_0_0) | 37 | 43 | 0 | 0 | 15 | 37 | 0 | 0\n",
    "axi_dma (test_mnist_axi_dma_0) | 1426 | 2027 | 0 | 0 | 596 | 1318 | 108 | 2\n",
    "dbg_hub (dbg_hub) | 456 | 739 | 0 | 0 | 230 | 432 | 24 | 0\n",
    "inst (xsdbm_v3_0_0_xsdbm) | 456 | 739 | 0 | 0 | 230 | 432 | 24 | 0"
   ]
  },
  {
   "cell_type": "code",
   "execution_count": null,
   "metadata": {},
   "outputs": [],
   "source": []
  }
 ],
 "metadata": {
  "kernelspec": {
   "display_name": "Python 3",
   "language": "python",
   "name": "python3"
  },
  "language_info": {
   "codemirror_mode": {
    "name": "ipython",
    "version": 3
   },
   "file_extension": ".py",
   "mimetype": "text/x-python",
   "name": "python",
   "nbconvert_exporter": "python",
   "pygments_lexer": "ipython3",
   "version": "3.6.5"
  }
 },
 "nbformat": 4,
 "nbformat_minor": 2
}
