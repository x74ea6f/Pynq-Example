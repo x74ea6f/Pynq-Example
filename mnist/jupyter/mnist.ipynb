{
 "cells": [
  {
   "cell_type": "markdown",
   "metadata": {},
   "source": [
    "## Python版"
   ]
  },
  {
   "cell_type": "markdown",
   "metadata": {},
   "source": [
    "元のヤツをgit submodule。  \n",
    "neuralnet_mnist_int.pyをコピー。\n",
    "\n",
    "```\n",
    "git submodule add https://github.com/oreilly-japan/deep-learning-from-scratch.git\n",
    "```"
   ]
  },
  {
   "cell_type": "code",
   "execution_count": 1,
   "metadata": {},
   "outputs": [],
   "source": [
    "import neuralnet_mnist_int\n",
    "import numpy as np"
   ]
  },
  {
   "cell_type": "code",
   "execution_count": 2,
   "metadata": {
    "scrolled": true
   },
   "outputs": [],
   "source": [
    "# neuralnet_mnist_int.main()"
   ]
  },
  {
   "cell_type": "code",
   "execution_count": 3,
   "metadata": {},
   "outputs": [],
   "source": [
    "# x_test, y_test = neuralnet_mnist_int.get_data()"
   ]
  },
  {
   "cell_type": "code",
   "execution_count": 4,
   "metadata": {},
   "outputs": [],
   "source": [
    "mode = \"INT_MODE\"\n",
    "x_test, y_test = neuralnet_mnist_int.get_data(mode=mode)\n",
    "network = neuralnet_mnist_int.init_network(mode=mode)\n",
    "py_y_test = np.ndarray(len(x_test), dtype=np.uint8)\n"
   ]
  },
  {
   "cell_type": "code",
   "execution_count": 5,
   "metadata": {},
   "outputs": [
    {
     "name": "stdout",
     "output_type": "stream",
     "text": [
      "CPU times: user 35.8 s, sys: 37.8 ms, total: 35.8 s\n",
      "Wall time: 35.9 s\n"
     ]
    }
   ],
   "source": [
    "%%time\n",
    "## Python版の結果\n",
    "for i in range(len(x_test)):\n",
    "    y,_ = neuralnet_mnist_int.predict(network, x_test[i], mode=mode)\n",
    "    py_y_test[i] = np.argmax(y) # 最も確率の高い要素のインデックスを取得"
   ]
  },
  {
   "cell_type": "code",
   "execution_count": 6,
   "metadata": {},
   "outputs": [
    {
     "data": {
      "text/plain": [
       "array([7, 2, 1, ..., 4, 5, 6], dtype=uint8)"
      ]
     },
     "execution_count": 6,
     "metadata": {},
     "output_type": "execute_result"
    }
   ],
   "source": [
    "py_y_test"
   ]
  },
  {
   "cell_type": "code",
   "execution_count": null,
   "metadata": {},
   "outputs": [],
   "source": []
  },
  {
   "cell_type": "markdown",
   "metadata": {},
   "source": [
    "## FPGA版 全データ"
   ]
  },
  {
   "cell_type": "code",
   "execution_count": 41,
   "metadata": {},
   "outputs": [
    {
     "name": "stdout",
     "output_type": "stream",
     "text": [
      "dict_keys(['axi_dma', 'axi_gpio_0']) <pynq.xlnk.Xlnk object at 0xafd6f950>\n"
     ]
    }
   ],
   "source": [
    "## FPGA Load\n",
    "from pynq import Overlay\n",
    "OL = Overlay(\"/home/xilinx/pynq/overlays/my_design/test_mnist_wrapper.bit\")\n",
    "OL.download()\n",
    "XLNK = OL.processing_system7_0\n",
    "\n",
    "## show IPs\n",
    "print(OL.ip_dict.keys(), XLNK)"
   ]
  },
  {
   "cell_type": "code",
   "execution_count": 42,
   "metadata": {},
   "outputs": [],
   "source": [
    "# import mnist\n",
    "# import numpy as np\n",
    "# x_test = mnist.test_images()\n",
    "# y_test = mnist.test_labels()\n",
    "# x_test = x_test.reshape(10000, 28*28)\n",
    "\n",
    "import neuralnet_mnist_int\n",
    "import numpy as np\n",
    "x_test, y_test = neuralnet_mnist_int.get_data()\n",
    "x_test = x_test.astype(np.uint8)"
   ]
  },
  {
   "cell_type": "code",
   "execution_count": 43,
   "metadata": {},
   "outputs": [
    {
     "data": {
      "text/plain": [
       "(numpy.ndarray, (10000, 784), dtype('uint8'))"
      ]
     },
     "execution_count": 43,
     "metadata": {},
     "output_type": "execute_result"
    }
   ],
   "source": [
    "type(x_test), x_test.shape, x_test.dtype"
   ]
  },
  {
   "cell_type": "code",
   "execution_count": 44,
   "metadata": {},
   "outputs": [
    {
     "name": "stdout",
     "output_type": "stream",
     "text": [
      "10000\n",
      "0x18100000\n",
      "0x1804c000\n"
     ]
    }
   ],
   "source": [
    "## Allocate Memory\n",
    "IMAGE_NUM = x_test.shape[0]\n",
    "# IMAGE_NUM = 30\n",
    "print(IMAGE_NUM)\n",
    "input_buf = XLNK.cma_array([28*28*IMAGE_NUM], np.uint8)\n",
    "print(hex(input_buf.physical_address))\n",
    "output_buf = XLNK.cma_array([1*IMAGE_NUM], np.uint8)\n",
    "print(hex(output_buf.physical_address))"
   ]
  },
  {
   "cell_type": "code",
   "execution_count": 45,
   "metadata": {},
   "outputs": [
    {
     "data": {
      "text/plain": [
       "255"
      ]
     },
     "execution_count": 45,
     "metadata": {},
     "output_type": "execute_result"
    }
   ],
   "source": [
    "## Write output_buf\n",
    "for i in range(IMAGE_NUM):\n",
    "    output_buf[i] = 0xFF\n",
    "output_buf[0]"
   ]
  },
  {
   "cell_type": "code",
   "execution_count": 46,
   "metadata": {},
   "outputs": [],
   "source": [
    "# %%time\n",
    "# adr  = 0\n",
    "# for i in range(0, IMAGE_NUM):\n",
    "#     for t in test_x[i]:\n",
    "#         input_buf[adr] = t\n",
    "#         adr += 1\n",
    "#     print(f\"\\r i={i}\", end='')\n",
    "# print()"
   ]
  },
  {
   "cell_type": "code",
   "execution_count": 47,
   "metadata": {},
   "outputs": [],
   "source": [
    "## Write inpu_buf(DDR)\n",
    "XLNK.cma_memcopy(input_buf, x_test, 28*28*IMAGE_NUM)"
   ]
  },
  {
   "cell_type": "code",
   "execution_count": 48,
   "metadata": {},
   "outputs": [],
   "source": [
    "# N = 0\n",
    "# for i in input_buf[(28*28)*N:(28*28)*(N+1)]:\n",
    "#     print(f\"{i:02X}\")"
   ]
  },
  {
   "cell_type": "code",
   "execution_count": 49,
   "metadata": {},
   "outputs": [],
   "source": [
    "def wait_dma():\n",
    "    i = 0\n",
    "    while i<100:\n",
    "        st = OL.axi_dma.register_map.S2MM_DMASR.Idle\n",
    "        if st:\n",
    "            break\n",
    "        i += 1\n",
    "        print(f\"\\rWait for Idle: {i}\", end='')\n",
    "    print()\n"
   ]
  },
  {
   "cell_type": "code",
   "execution_count": 60,
   "metadata": {},
   "outputs": [
    {
     "name": "stdout",
     "output_type": "stream",
     "text": [
      "\r",
      "Wait for Idle: 1\r",
      "Wait for Idle: 2\r",
      "Wait for Idle: 3\n",
      "CPU times: user 94.8 ms, sys: 28.4 ms, total: 123 ms\n",
      "Wall time: 111 ms\n"
     ]
    }
   ],
   "source": [
    "%%time\n",
    "## DMA Control\n",
    "## Stop\n",
    "OL.axi_dma.register_map.MM2S_DMACR = 0x0\n",
    "OL.axi_dma.register_map.S2MM_DMACR = 0x0\n",
    "\n",
    "## Run\n",
    "OL.axi_dma.register_map.MM2S_DMACR = 0x1\n",
    "OL.axi_dma.register_map.S2MM_DMACR = 0x1\n",
    "\n",
    "## Address\n",
    "OL.axi_dma.register_map.MM2S_SA = input_buf.physical_address\n",
    "OL.axi_dma.register_map.S2MM_DA = output_buf.physical_address\n",
    "\n",
    "## Size\n",
    "# OL.axi_dma.register_map.MM2S_LENGTH = 28*28*20\n",
    "# OL.axi_dma.register_map.S2MM_LENGTH = 1*20\n",
    "OL.axi_dma.register_map.MM2S_LENGTH = 28*28*IMAGE_NUM\n",
    "OL.axi_dma.register_map.S2MM_LENGTH = 1*IMAGE_NUM\n",
    "\n",
    "wait_dma()"
   ]
  },
  {
   "cell_type": "code",
   "execution_count": 51,
   "metadata": {},
   "outputs": [
    {
     "data": {
      "text/plain": [
       "(Register(Halted=0, Idle=1, SGIncld=0, DMAIntErr=0, DMASlvErr=0, DMADecErr=0, SGIntErr=0, SGSlvErr=0, SGDecErr=0, IOC_Irq=1, Dly_Irq=0, Err_Irq=0, IRQThresholdSts=0, IRQDelaySts=0),\n",
       " Register(Halted=0, Idle=1, SGIncld=0, DMAIntErr=0, DMASlvErr=0, DMADecErr=0, SGIntErr=0, SGSlvErr=0, SGDecErr=0, IOC_Irq=1, Dly_Irq=0, Err_Irq=0, IRQThresholdSts=0, IRQDelaySts=0))"
      ]
     },
     "execution_count": 51,
     "metadata": {},
     "output_type": "execute_result"
    }
   ],
   "source": [
    "## DMA MM2S Status\n",
    "OL.axi_dma.register_map.MM2S_DMASR, OL.axi_dma.register_map.S2MM_DMASR "
   ]
  },
  {
   "cell_type": "code",
   "execution_count": 52,
   "metadata": {},
   "outputs": [
    {
     "data": {
      "text/plain": [
       "('0x77a100', '0x77a100', '0x4050', '0x77a100')"
      ]
     },
     "execution_count": 52,
     "metadata": {},
     "output_type": "execute_result"
    }
   ],
   "source": [
    "hex(OL.axi_dma.register_map.MM2S_LENGTH), hex(28*28*IMAGE_NUM), hex(28*28*21), hex(28*28*10000)"
   ]
  },
  {
   "cell_type": "code",
   "execution_count": 53,
   "metadata": {},
   "outputs": [
    {
     "name": "stdout",
     "output_type": "stream",
     "text": [
      "0.9325\n"
     ]
    }
   ],
   "source": [
    "N = IMAGE_NUM\n",
    "ok = 0\n",
    "for i, (exp, data) in enumerate(zip(y_test, output_buf)):\n",
    "    if exp==data:\n",
    "        ok += 1\n",
    "    ## print(f\"{i}: {exp:02X}, {data:02X}, {exp==data}\")\n",
    "print(ok/N)"
   ]
  },
  {
   "cell_type": "code",
   "execution_count": 54,
   "metadata": {},
   "outputs": [],
   "source": [
    "for i, (exp, data) in enumerate(zip(py_y_test, output_buf)):\n",
    "    if exp!=data:\n",
    "        print(f\"{i}, {exp} {data}\")"
   ]
  },
  {
   "cell_type": "code",
   "execution_count": null,
   "metadata": {},
   "outputs": [],
   "source": []
  },
  {
   "cell_type": "markdown",
   "metadata": {},
   "source": [
    "## 他"
   ]
  },
  {
   "cell_type": "code",
   "execution_count": 37,
   "metadata": {},
   "outputs": [],
   "source": [
    "## まとめ用\n",
    "import re\n",
    "\n",
    "TIME_GET = [\"user\", \"sys\", \"total\", \"Wall time\"]\n",
    "\n",
    "def get_sec(value, unit):\n",
    "    value = float(value)\n",
    "    if unit==\"µs\":\n",
    "        value *= 10**(-6)\n",
    "    elif unit==\"ms\":\n",
    "        value *= 10**(-3)\n",
    "    return value\n",
    "\n",
    "def time_formatter_sec(s):\n",
    "    res = {}\n",
    "    for tg in TIME_GET:\n",
    "        m = re.search(f\"{tg}.*?([0-9.]+)\\s([µm]*s)\", s)\n",
    "        ## print(m)\n",
    "        res[tg] = get_sec(m.group(1), m.group(2))\n",
    "    return res"
   ]
  },
  {
   "cell_type": "code",
   "execution_count": 66,
   "metadata": {},
   "outputs": [
    {
     "name": "stdout",
     "output_type": "stream",
     "text": [
      "user | 36.4000 | 0.1910 | 0.0948 |  384.0\n",
      "sys | 0.0154 | 0.0507 | 0.0284 |  0.5\n",
      "total | 36.4000 | 0.2420 | 0.1230 |  295.9\n",
      "Wall time | 36.5000 | 0.2460 | 0.1110 |  328.8\n"
     ]
    }
   ],
   "source": [
    "python_result = \"\"\"\n",
    "CPU times: user 36.4 s, sys: 15.4 ms, total: 36.4 s\n",
    "Wall time: 36.5 s\n",
    "\"\"\"\n",
    "\n",
    "rtl_para1_result = \"\"\"\n",
    "CPU times: user 191 ms, sys: 50.7 ms, total: 242 ms\n",
    "Wall time: 246 ms\n",
    "\"\"\"\n",
    "\n",
    "rtl_result = \"\"\"\n",
    "CPU times: user 94.8 ms, sys: 28.4 ms, total: 123 ms\n",
    "Wall time: 111 ms\n",
    "\"\"\"\n",
    "\n",
    "python_time = time_formatter_sec(python_result)\n",
    "rtl_para1_time = time_formatter_sec(rtl_para1_result)\n",
    "rtl_time = time_formatter_sec(rtl_result)\n",
    "\n",
    "for tg in TIME_GET:\n",
    "    print(f\"{tg} | {python_time[tg]:.4f} | {rtl_para1_time[tg]:.4f} | {rtl_time[tg]:.4f} |  {python_time[tg] / rtl_time[tg]:.1f}\")"
   ]
  },
  {
   "cell_type": "markdown",
   "metadata": {},
   "source": [
    "## まとめ\n",
    "\n",
    "| Python版 | RTL(para1)版 | RTL版 | 倍率\n",
    "-- | -- | --  \n",
    "user | 36.4000 | 0.1910 | 0.0948 |  384.0\n",
    "sys | 0.0154 | 0.0507 | 0.0284 |  0.5\n",
    "total | 36.4000 | 0.2420 | 0.1230 |  295.9\n",
    "Wall time | 36.5000 | 0.2460 | 0.1110 |  328.8\n",
    "\n",
    "実行時間で、約300倍。(ばらつきアリ)"
   ]
  },
  {
   "cell_type": "code",
   "execution_count": null,
   "metadata": {},
   "outputs": [],
   "source": []
  }
 ],
 "metadata": {
  "kernelspec": {
   "display_name": "Python 3",
   "language": "python",
   "name": "python3"
  },
  "language_info": {
   "codemirror_mode": {
    "name": "ipython",
    "version": 3
   },
   "file_extension": ".py",
   "mimetype": "text/x-python",
   "name": "python",
   "nbconvert_exporter": "python",
   "pygments_lexer": "ipython3",
   "version": "3.6.5"
  }
 },
 "nbformat": 4,
 "nbformat_minor": 2
}
