{
 "cells": [
  {
   "cell_type": "markdown",
   "metadata": {},
   "source": [
    "## Python版"
   ]
  },
  {
   "cell_type": "markdown",
   "metadata": {},
   "source": [
    "元のヤツをgit clone。  \n",
    "neuralnet_mnist_int.pyをコピー。\n",
    "\n",
    "```\n",
    "git submodule add https://github.com/oreilly-japan/deep-learning-from-scratch.git\n",
    "```"
   ]
  },
  {
   "cell_type": "code",
   "execution_count": null,
   "metadata": {},
   "outputs": [],
   "source": [
    "import neuralnet_mnist_int\n",
    "import numpy as np"
   ]
  },
  {
   "cell_type": "code",
   "execution_count": null,
   "metadata": {
    "scrolled": true
   },
   "outputs": [],
   "source": [
    "# neuralnet_mnist_int.main()"
   ]
  },
  {
   "cell_type": "code",
   "execution_count": null,
   "metadata": {},
   "outputs": [],
   "source": [
    "# x_test, y_test = neuralnet_mnist_int.get_data()"
   ]
  },
  {
   "cell_type": "code",
   "execution_count": null,
   "metadata": {},
   "outputs": [],
   "source": [
    "mode = \"INT_MODE\"\n",
    "x_test, y_test = neuralnet_mnist_int.get_data(mode=mode)\n",
    "network = neuralnet_mnist_int.init_network(mode=mode)\n",
    "py_y_test = np.ndarray(len(x_test), dtype=np.uint8)\n"
   ]
  },
  {
   "cell_type": "code",
   "execution_count": null,
   "metadata": {},
   "outputs": [],
   "source": [
    "%%time\n",
    "## Python版の結果\n",
    "for i in range(len(x_test)):\n",
    "    y,_ = neuralnet_mnist_int.predict(network, x_test[i], mode=mode)\n",
    "    py_y_test[i] = np.argmax(y) # 最も確率の高い要素のインデックスを取得"
   ]
  },
  {
   "cell_type": "code",
   "execution_count": null,
   "metadata": {},
   "outputs": [],
   "source": [
    "py_y_test"
   ]
  },
  {
   "cell_type": "code",
   "execution_count": null,
   "metadata": {},
   "outputs": [],
   "source": []
  },
  {
   "cell_type": "markdown",
   "metadata": {},
   "source": [
    "## FPGA版 全データ"
   ]
  },
  {
   "cell_type": "code",
   "execution_count": null,
   "metadata": {},
   "outputs": [],
   "source": [
    "## FPGA Load\n",
    "from pynq import Overlay\n",
    "OL = Overlay(\"/home/xilinx/pynq/overlays/my_design/test_mnist_wrapper.bit\")\n",
    "OL.download()\n",
    "XLNK = OL.processing_system7_0\n",
    "\n",
    "## show IPs\n",
    "print(OL.ip_dict.keys(), XLNK)"
   ]
  },
  {
   "cell_type": "code",
   "execution_count": null,
   "metadata": {},
   "outputs": [],
   "source": [
    "# import mnist\n",
    "# import numpy as np\n",
    "# x_test = mnist.test_images()\n",
    "# y_test = mnist.test_labels()\n",
    "# x_test = x_test.reshape(10000, 28*28)\n",
    "\n",
    "import neuralnet_mnist_int\n",
    "import numpy as np\n",
    "x_test, y_test = neuralnet_mnist_int.get_data()\n",
    "x_test = x_test.astype(np.uint8)"
   ]
  },
  {
   "cell_type": "code",
   "execution_count": null,
   "metadata": {},
   "outputs": [],
   "source": [
    "type(x_test), x_test.shape, x_test.dtype"
   ]
  },
  {
   "cell_type": "code",
   "execution_count": null,
   "metadata": {},
   "outputs": [],
   "source": [
    "## Allocate Memory\n",
    "IMAGE_NUM = x_test.shape[0]\n",
    "# IMAGE_NUM = 30\n",
    "print(IMAGE_NUM)\n",
    "input_buf = XLNK.cma_array([28*28*IMAGE_NUM], np.uint8)\n",
    "print(hex(input_buf.physical_address))\n",
    "output_buf = XLNK.cma_array([1*IMAGE_NUM], np.uint8)\n",
    "print(hex(output_buf.physical_address))"
   ]
  },
  {
   "cell_type": "code",
   "execution_count": null,
   "metadata": {},
   "outputs": [],
   "source": [
    "## Write output_buf\n",
    "for i in range(IMAGE_NUM):\n",
    "    output_buf[i] = 0xFF\n",
    "output_buf[0]"
   ]
  },
  {
   "cell_type": "code",
   "execution_count": null,
   "metadata": {},
   "outputs": [],
   "source": [
    "# %%time\n",
    "# adr  = 0\n",
    "# for i in range(0, IMAGE_NUM):\n",
    "#     for t in test_x[i]:\n",
    "#         input_buf[adr] = t\n",
    "#         adr += 1\n",
    "#     print(f\"\\r i={i}\", end='')\n",
    "# print()"
   ]
  },
  {
   "cell_type": "code",
   "execution_count": null,
   "metadata": {},
   "outputs": [],
   "source": [
    "## Write inpu_buf(DDR)\n",
    "XLNK.cma_memcopy(input_buf, x_test, 28*28*IMAGE_NUM)"
   ]
  },
  {
   "cell_type": "code",
   "execution_count": null,
   "metadata": {},
   "outputs": [],
   "source": [
    "# N = 0\n",
    "# for i in input_buf[(28*28)*N:(28*28)*(N+1)]:\n",
    "#     print(f\"{i:02X}\")"
   ]
  },
  {
   "cell_type": "code",
   "execution_count": null,
   "metadata": {},
   "outputs": [],
   "source": [
    "def wait_dma():\n",
    "    i = 0\n",
    "    while i<100:\n",
    "        st = OL.axi_dma.register_map.S2MM_DMASR.Idle\n",
    "        if st:\n",
    "            break\n",
    "        i += 1\n",
    "        print(f\"\\rWait for Idle: {i}\", end='')\n",
    "    print()\n"
   ]
  },
  {
   "cell_type": "code",
   "execution_count": null,
   "metadata": {},
   "outputs": [],
   "source": [
    "%%time\n",
    "## DMA Control\n",
    "## Stop\n",
    "OL.axi_dma.register_map.MM2S_DMACR = 0x0\n",
    "OL.axi_dma.register_map.S2MM_DMACR = 0x0\n",
    "\n",
    "## Run\n",
    "OL.axi_dma.register_map.MM2S_DMACR = 0x1\n",
    "OL.axi_dma.register_map.S2MM_DMACR = 0x1\n",
    "\n",
    "## Address\n",
    "OL.axi_dma.register_map.MM2S_SA = input_buf.physical_address\n",
    "OL.axi_dma.register_map.S2MM_DA = output_buf.physical_address\n",
    "\n",
    "## Size\n",
    "# OL.axi_dma.register_map.MM2S_LENGTH = 28*28*20\n",
    "# OL.axi_dma.register_map.S2MM_LENGTH = 1*20\n",
    "OL.axi_dma.register_map.MM2S_LENGTH = 28*28*IMAGE_NUM\n",
    "OL.axi_dma.register_map.S2MM_LENGTH = 1*IMAGE_NUM\n",
    "\n",
    "wait_dma()"
   ]
  },
  {
   "cell_type": "code",
   "execution_count": null,
   "metadata": {},
   "outputs": [],
   "source": [
    "## DMA MM2S Status\n",
    "OL.axi_dma.register_map.MM2S_DMASR, OL.axi_dma.register_map.S2MM_DMASR "
   ]
  },
  {
   "cell_type": "code",
   "execution_count": null,
   "metadata": {},
   "outputs": [],
   "source": [
    "hex(OL.axi_dma.register_map.MM2S_LENGTH), hex(28*28*IMAGE_NUM), hex(28*28*21), hex(28*28*10000)"
   ]
  },
  {
   "cell_type": "code",
   "execution_count": null,
   "metadata": {},
   "outputs": [],
   "source": [
    "N = IMAGE_NUM\n",
    "ok = 0\n",
    "for i, (exp, data) in enumerate(zip(y_test, output_buf)):\n",
    "    if exp==data:\n",
    "        ok += 1\n",
    "    ## print(f\"{i}: {exp:02X}, {data:02X}, {exp==data}\")\n",
    "print(ok/N)"
   ]
  },
  {
   "cell_type": "code",
   "execution_count": null,
   "metadata": {},
   "outputs": [],
   "source": [
    "for i, (exp, data) in enumerate(zip(py_y_test, output_buf)):\n",
    "    if exp!=data:\n",
    "        print(f\"{i}, {exp} {data}\")"
   ]
  },
  {
   "cell_type": "code",
   "execution_count": null,
   "metadata": {},
   "outputs": [],
   "source": []
  },
  {
   "cell_type": "markdown",
   "metadata": {},
   "source": [
    "## 他"
   ]
  },
  {
   "cell_type": "code",
   "execution_count": null,
   "metadata": {},
   "outputs": [],
   "source": [
    "## まとめ用\n",
    "import re\n",
    "\n",
    "TIME_GET = [\"user\", \"sys\", \"total\", \"Wall time\"]\n",
    "\n",
    "def get_sec(value, unit):\n",
    "    value = float(value)\n",
    "    if unit==\"µs\":\n",
    "        value *= 10**(-6)\n",
    "    elif unit==\"ms\":\n",
    "        value *= 10**(-3)\n",
    "    return value\n",
    "\n",
    "def time_formatter_sec(s):\n",
    "    res = {}\n",
    "    for tg in TIME_GET:\n",
    "        m = re.search(f\"{tg}.*?([0-9.]+)\\s([µm]*s)\", s)\n",
    "        ## print(m)\n",
    "        res[tg] = get_sec(m.group(1), m.group(2))\n",
    "    return res"
   ]
  },
  {
   "cell_type": "code",
   "execution_count": null,
   "metadata": {},
   "outputs": [],
   "source": [
    "python_result = \"\"\"\n",
    "CPU times: user 36.4 s, sys: 15.4 ms, total: 36.4 s\n",
    "Wall time: 36.5 s\n",
    "\"\"\"\n",
    "\n",
    "rtl_result = \"\"\"\n",
    "CPU times: user 191 ms, sys: 50.7 ms, total: 242 ms\n",
    "Wall time: 246 ms\n",
    "\"\"\"\n",
    "\n",
    "python_time = time_formatter_sec(python_result)\n",
    "rtl_time = time_formatter_sec(rtl_result)\n",
    "\n",
    "for tg in TIME_GET:\n",
    "    print(f\"{tg} | {python_time[tg]} | {rtl_time[tg]} | {python_time[tg] / rtl_time[tg]:.1f}\")"
   ]
  },
  {
   "cell_type": "markdown",
   "metadata": {},
   "source": [
    "## まとめ\n",
    "\n",
    "| Python版 | RTL版 | 倍率\n",
    "-- | -- | --  \n",
    "user | 36.4 | 0.191 | 190.6\n",
    "sys | 0.0154 | 0.0507 | 0.3\n",
    "total | 36.4 | 0.242 | 150.4\n",
    "Wall time | 36.5 | 0.246 | 148.4\n",
    "\n",
    "実行時間で、約150倍。"
   ]
  },
  {
   "cell_type": "code",
   "execution_count": null,
   "metadata": {},
   "outputs": [],
   "source": []
  }
 ],
 "metadata": {
  "kernelspec": {
   "display_name": "Python 3",
   "language": "python",
   "name": "python3"
  },
  "language_info": {
   "codemirror_mode": {
    "name": "ipython",
    "version": 3
   },
   "file_extension": ".py",
   "mimetype": "text/x-python",
   "name": "python",
   "nbconvert_exporter": "python",
   "pygments_lexer": "ipython3",
   "version": "3.6.5"
  }
 },
 "nbformat": 4,
 "nbformat_minor": 2
}
