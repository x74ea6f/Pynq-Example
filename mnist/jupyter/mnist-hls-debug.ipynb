{
 "cells": [
  {
   "cell_type": "markdown",
   "metadata": {},
   "source": [
    "## HLS版 最初のデバッグ4データ"
   ]
  },
  {
   "cell_type": "code",
   "execution_count": 231,
   "metadata": {},
   "outputs": [
    {
     "name": "stdout",
     "output_type": "stream",
     "text": [
      "dict_keys(['axi_dma', 'axi_dma_0', 'axi_gpio_0', 'nn_0']) <pynq.xlnk.Xlnk object at 0xafd45230>\n"
     ]
    }
   ],
   "source": [
    "import time\n",
    "\n",
    "## FPGA Load\n",
    "from pynq import Overlay\n",
    "OL = Overlay(\"/home/xilinx/pynq/overlays/my_design/test_mnist_wrapper.bit\")\n",
    "OL.download()\n",
    "XLNK = OL.processing_system7_0\n",
    "\n",
    "## show IPs\n",
    "print(OL.ip_dict.keys(), XLNK)"
   ]
  },
  {
   "cell_type": "code",
   "execution_count": null,
   "metadata": {},
   "outputs": [],
   "source": []
  },
  {
   "cell_type": "code",
   "execution_count": null,
   "metadata": {},
   "outputs": [],
   "source": []
  },
  {
   "cell_type": "code",
   "execution_count": null,
   "metadata": {},
   "outputs": [],
   "source": []
  },
  {
   "cell_type": "code",
   "execution_count": null,
   "metadata": {},
   "outputs": [],
   "source": []
  },
  {
   "cell_type": "code",
   "execution_count": null,
   "metadata": {},
   "outputs": [],
   "source": []
  },
  {
   "cell_type": "code",
   "execution_count": null,
   "metadata": {},
   "outputs": [],
   "source": []
  },
  {
   "cell_type": "code",
   "execution_count": null,
   "metadata": {},
   "outputs": [],
   "source": []
  },
  {
   "cell_type": "code",
   "execution_count": 232,
   "metadata": {},
   "outputs": [
    {
     "name": "stdout",
     "output_type": "stream",
     "text": [
      "0x18050000\n",
      "0x18052000\n"
     ]
    }
   ],
   "source": [
    "IMAGE_NUM = 4\n",
    "## Allocate Memory\n",
    "input_buf = XLNK.cma_array([28*28*IMAGE_NUM//4])\n",
    "print(hex(input_buf.physical_address))\n",
    "output_buf = XLNK.cma_array([1*IMAGE_NUM//4])\n",
    "print(hex(output_buf.physical_address))"
   ]
  },
  {
   "cell_type": "code",
   "execution_count": 233,
   "metadata": {
    "scrolled": true
   },
   "outputs": [],
   "source": [
    "## Load Image\n",
    "import re\n",
    "\n",
    "def load_image(file_name, input_buf):\n",
    "    with open(file_name, 'r') as f:\n",
    "        val_s = 0\n",
    "        for i, l in enumerate(f.readlines()):\n",
    "            l = l.strip() ## remove return code\n",
    "            l = re.sub(\"\\s*\\/\\/.*$\", \"\", l) ## remove Comment\n",
    "            l = re.sub(\"\\s+\", \" \", l) ## Remove Space 2+\n",
    "            adr, val = l.split(\" \")  ## split Space\n",
    "            val = int(val, 16)\n",
    "\n",
    "            val_s = val_s | (val << (8*(i%4)))\n",
    "            if i%4==3:\n",
    "                ## print(f\"@{i//4}: 0x{val_s:08X}\")\n",
    "                input_buf[i//4] = val_s\n",
    "                ## input_buf[i//4] = (i//4)\n",
    "                val_s = 0\n",
    "\n",
    "image_size = (28*28)//4\n",
    "load_image(\"rom/image0.mem\", input_buf[image_size*0:image_size*1]) ## 7\n",
    "load_image(\"rom/image1.mem\", input_buf[image_size*1:image_size*2]) ## 2\n",
    "load_image(\"rom/image2.mem\", input_buf[image_size*2:image_size*3]) ## 1\n",
    "load_image(\"rom/image3.mem\", input_buf[image_size*3:image_size*4]) ## 0\n"
   ]
  },
  {
   "cell_type": "code",
   "execution_count": 234,
   "metadata": {},
   "outputs": [
    {
     "name": "stdout",
     "output_type": "stream",
     "text": [
      "0xfffffffe\n"
     ]
    }
   ],
   "source": [
    "## Check Output Buf\n",
    "for i in range(IMAGE_NUM//4):\n",
    "    output_buf[i] = 0xFFFFFFFE\n",
    "print(hex(output_buf[0]))"
   ]
  },
  {
   "cell_type": "code",
   "execution_count": 235,
   "metadata": {},
   "outputs": [],
   "source": [
    "# OL.nn_0.s_axi_AXILiteS.register_map.CTRL.AP_START = 1\n",
    "OL.nn_0.register_map.CTRL.AP_START = 1\n",
    "OL.nn_0.register_map.CTRL.AUTO_RESTART = 1"
   ]
  },
  {
   "cell_type": "code",
   "execution_count": 236,
   "metadata": {},
   "outputs": [
    {
     "data": {
      "text/plain": [
       "Register(AP_START=1, AP_DONE=0, AP_IDLE=0, AP_READY=0, RESERVED_1=0, AUTO_RESTART=1, RESERVED_2=0)"
      ]
     },
     "execution_count": 236,
     "metadata": {},
     "output_type": "execute_result"
    }
   ],
   "source": [
    "# OL.nn_0.s_axi_AXILiteS.register_map.CTRL\n",
    "OL.nn_0.register_map.CTRL"
   ]
  },
  {
   "cell_type": "code",
   "execution_count": 237,
   "metadata": {},
   "outputs": [],
   "source": [
    "## DMA Control\n",
    "## Stop\n",
    "OL.axi_dma_0.register_map.MM2S_DMACR = 0x0\n",
    "OL.axi_dma_0.register_map.S2MM_DMACR = 0x0\n",
    "\n",
    "## Run\n",
    "OL.axi_dma_0.register_map.MM2S_DMACR = 0x1\n",
    "OL.axi_dma_0.register_map.S2MM_DMACR = 0x1\n",
    "\n",
    "## Address\n",
    "OL.axi_dma_0.register_map.MM2S_SA = input_buf.physical_address\n",
    "OL.axi_dma_0.register_map.S2MM_DA = output_buf.physical_address\n",
    "\n",
    "## Size\n",
    "OL.axi_dma_0.register_map.S2MM_LENGTH = 1*IMAGE_NUM\n",
    "OL.axi_dma_0.register_map.MM2S_LENGTH = 28*28*IMAGE_NUM\n"
   ]
  },
  {
   "cell_type": "code",
   "execution_count": null,
   "metadata": {},
   "outputs": [],
   "source": []
  },
  {
   "cell_type": "code",
   "execution_count": 238,
   "metadata": {},
   "outputs": [
    {
     "name": "stdout",
     "output_type": "stream",
     "text": [
      "<bound method Register.__str__ of Register(AP_START=1, AP_DONE=0, AP_IDLE=0, AP_READY=0, RESERVED_1=0, AUTO_RESTART=1, RESERVED_2=0)>\n"
     ]
    }
   ],
   "source": [
    "# OL.nn_0.s_axi_AXILiteS.register_map.CTRL\n",
    "for i in range(1):\n",
    "    print(OL.nn_0.register_map.CTRL.__str__)\n",
    "    time.sleep(1)"
   ]
  },
  {
   "cell_type": "code",
   "execution_count": 239,
   "metadata": {},
   "outputs": [
    {
     "name": "stdout",
     "output_type": "stream",
     "text": [
      "0x00010207\n"
     ]
    }
   ],
   "source": [
    "## Check Output Buf\n",
    "print(f\"0x{output_buf[0]:08X}\")"
   ]
  },
  {
   "cell_type": "code",
   "execution_count": 240,
   "metadata": {},
   "outputs": [
    {
     "data": {
      "text/plain": [
       "(Register(Halted=1, Idle=0, SGIncld=0, DMAIntErr=0, DMASlvErr=0, DMADecErr=0, SGIntErr=0, SGSlvErr=0, SGDecErr=0, IOC_Irq=1, Dly_Irq=0, Err_Irq=0, IRQThresholdSts=0, IRQDelaySts=0),\n",
       " Register(Halted=1, Idle=0, SGIncld=0, DMAIntErr=1, DMASlvErr=0, DMADecErr=0, SGIntErr=0, SGSlvErr=0, SGDecErr=0, IOC_Irq=1, Dly_Irq=0, Err_Irq=1, IRQThresholdSts=0, IRQDelaySts=0))"
      ]
     },
     "execution_count": 240,
     "metadata": {},
     "output_type": "execute_result"
    }
   ],
   "source": [
    "## DMA MM2S Status, \n",
    "OL.axi_dma_0.register_map.MM2S_DMASR, OL.axi_dma_0.register_map.S2MM_DMASR"
   ]
  },
  {
   "cell_type": "code",
   "execution_count": 19,
   "metadata": {},
   "outputs": [
    {
     "data": {
      "text/plain": [
       "(Register(RS=0, Reset=0, Keyhole=0, Cyclic_BD_Enable=0, IOC_IrqEn=0, Dly_IrqEn=0, Err_IrqEn=0, IRQThreshold=1, IRQDelay=0),\n",
       " Register(RS=1, Reset=0, Keyhole=0, Cyclic_BD_Enable=0, IOC_IrqEn=0, Dly_IrqEn=0, Err_IrqEn=0, IRQThreshold=1, IRQDelay=0))"
      ]
     },
     "execution_count": 19,
     "metadata": {},
     "output_type": "execute_result"
    }
   ],
   "source": [
    "## DMA Soft Reset\n",
    "OL.axi_dma_0.register_map.MM2S_DMACR = 0x4\n",
    "OL.axi_dma_0.register_map.S2MM_DMACR = 0x4\n",
    "OL.axi_dma_0.register_map.MM2S_DMACR, OL.axi_dma.register_map.MM2S_DMACR"
   ]
  },
  {
   "cell_type": "markdown",
   "metadata": {},
   "source": [
    "---"
   ]
  },
  {
   "cell_type": "markdown",
   "metadata": {},
   "source": [
    "# FPGA版 1転送 Loop"
   ]
  },
  {
   "cell_type": "code",
   "execution_count": 1,
   "metadata": {},
   "outputs": [
    {
     "data": {
      "application/javascript": [
       "\n",
       "try {\n",
       "require(['notebook/js/codecell'], function(codecell) {\n",
       "  codecell.CodeCell.options_default.highlight_modes[\n",
       "      'magic_text/x-csrc'] = {'reg':[/^%%microblaze/]};\n",
       "  Jupyter.notebook.events.one('kernel_ready.Kernel', function(){\n",
       "      Jupyter.notebook.get_cells().map(function(cell){\n",
       "          if (cell.cell_type == 'code'){ cell.auto_highlight(); } }) ;\n",
       "  });\n",
       "});\n",
       "} catch (e) {};\n"
      ]
     },
     "metadata": {},
     "output_type": "display_data"
    },
    {
     "name": "stdout",
     "output_type": "stream",
     "text": [
      "dict_keys(['axi_dma', 'axi_dma_0', 'axi_gpio_0', 'nn_0']) <pynq.xlnk.Xlnk object at 0xafd76210>\n"
     ]
    }
   ],
   "source": [
    "## FPGA Load\n",
    "from pynq import Overlay\n",
    "OL = Overlay(\"/home/xilinx/pynq/overlays/my_design/test_mnist_wrapper.bit\")\n",
    "OL.download()\n",
    "XLNK = OL.processing_system7_0\n",
    "\n",
    "## show IPs\n",
    "print(OL.ip_dict.keys(), XLNK)"
   ]
  },
  {
   "cell_type": "code",
   "execution_count": 2,
   "metadata": {},
   "outputs": [],
   "source": [
    "import mnist\n",
    "import numpy as np\n",
    "test_x = mnist.test_images()\n",
    "test_y = mnist.test_labels()\n",
    "\n",
    "test_x = test_x.reshape(10000, 28*28)"
   ]
  },
  {
   "cell_type": "code",
   "execution_count": 3,
   "metadata": {},
   "outputs": [
    {
     "name": "stdout",
     "output_type": "stream",
     "text": [
      "1\n",
      "0x18049000\n",
      "0x1804a000\n"
     ]
    }
   ],
   "source": [
    "## Allocate Memory\n",
    "IMAGE_NUM = 1\n",
    "print(IMAGE_NUM)\n",
    "input_buf = XLNK.cma_array([28*28*IMAGE_NUM], np.uint8)\n",
    "print(hex(input_buf.physical_address))\n",
    "output_buf = XLNK.cma_array([1*IMAGE_NUM], np.uint8)\n",
    "print(hex(output_buf.physical_address))"
   ]
  },
  {
   "cell_type": "code",
   "execution_count": 90,
   "metadata": {},
   "outputs": [
    {
     "data": {
      "text/plain": [
       "Register(AP_START=1, AP_DONE=0, AP_IDLE=0, AP_READY=0, RESERVED_1=0, AUTO_RESTART=1, RESERVED_2=0)"
      ]
     },
     "execution_count": 90,
     "metadata": {},
     "output_type": "execute_result"
    }
   ],
   "source": [
    "OL.nn_0.register_map.CTRL.AUTO_RESTART = 1\n",
    "OL.nn_0.register_map.CTRL.AP_START = 1\n",
    "OL.nn_0.register_map.CTRL"
   ]
  },
  {
   "cell_type": "code",
   "execution_count": 117,
   "metadata": {},
   "outputs": [],
   "source": [
    "import time\n",
    "\n",
    "def copy_mem(n):\n",
    "    ## Write inpu_buf(DDR)\n",
    "    XLNK.cma_memcopy(input_buf, test_x[n], 28*28*1)    \n",
    "\n",
    "def start_dma():\n",
    "    ## DMA Control\n",
    "    ## Stop\n",
    "    OL.axi_dma_0.register_map.MM2S_DMACR = 0x4 ## TODO\n",
    "    OL.axi_dma_0.register_map.S2MM_DMACR = 0x4 ## TODO\n",
    "\n",
    "    ## Run\n",
    "    OL.axi_dma_0.register_map.MM2S_DMACR = 0x1\n",
    "    OL.axi_dma_0.register_map.S2MM_DMACR = 0x1\n",
    "\n",
    "    ## Address\n",
    "    OL.axi_dma_0.register_map.MM2S_SA = input_buf.physical_address\n",
    "    OL.axi_dma_0.register_map.S2MM_DA = output_buf.physical_address\n",
    "\n",
    "    ## Size\n",
    "    OL.axi_dma_0.register_map.MM2S_LENGTH = 28*28*IMAGE_NUM\n",
    "    OL.axi_dma_0.register_map.S2MM_LENGTH = 1*IMAGE_NUM\n",
    "\n",
    "def wait_dma():\n",
    "    i = 0\n",
    "    while i<100:\n",
    "        st = OL.axi_dma_0.register_map.S2MM_DMASR.Halted\n",
    "        if st:\n",
    "            break\n",
    "        i += 1\n",
    "        ## time.sleep(0.01)\n",
    "    else:\n",
    "        print(\"time out\")\n"
   ]
  },
  {
   "cell_type": "code",
   "execution_count": null,
   "metadata": {},
   "outputs": [],
   "source": []
  },
  {
   "cell_type": "code",
   "execution_count": null,
   "metadata": {},
   "outputs": [],
   "source": []
  },
  {
   "cell_type": "code",
   "execution_count": 110,
   "metadata": {},
   "outputs": [
    {
     "data": {
      "text/plain": [
       "(Register(Halted=1, Idle=0, SGIncld=0, DMAIntErr=0, DMASlvErr=0, DMADecErr=0, SGIntErr=0, SGSlvErr=0, SGDecErr=0, IOC_Irq=1, Dly_Irq=0, Err_Irq=0, IRQThresholdSts=0, IRQDelaySts=0),\n",
       " Register(Halted=1, Idle=0, SGIncld=0, DMAIntErr=1, DMASlvErr=0, DMADecErr=0, SGIntErr=0, SGSlvErr=0, SGDecErr=0, IOC_Irq=1, Dly_Irq=0, Err_Irq=1, IRQThresholdSts=0, IRQDelaySts=0))"
      ]
     },
     "execution_count": 110,
     "metadata": {},
     "output_type": "execute_result"
    }
   ],
   "source": [
    "## DMA MM2S Status, \n",
    "OL.axi_dma_0.register_map.MM2S_DMASR, OL.axi_dma_0.register_map.S2MM_DMASR"
   ]
  },
  {
   "cell_type": "code",
   "execution_count": 111,
   "metadata": {},
   "outputs": [
    {
     "data": {
      "text/plain": [
       "Register(Length=1)"
      ]
     },
     "execution_count": 111,
     "metadata": {},
     "output_type": "execute_result"
    }
   ],
   "source": [
    "OL.axi_dma_0.register_map.S2MM_LENGTH"
   ]
  },
  {
   "cell_type": "code",
   "execution_count": 112,
   "metadata": {},
   "outputs": [],
   "source": [
    "output_buf[0] = 0xFF\n",
    "\n",
    "copy_mem(0)\n",
    "start_dma()"
   ]
  },
  {
   "cell_type": "code",
   "execution_count": 113,
   "metadata": {},
   "outputs": [
    {
     "data": {
      "text/plain": [
       "(7, '0x7')"
      ]
     },
     "execution_count": 113,
     "metadata": {},
     "output_type": "execute_result"
    }
   ],
   "source": [
    "output_buf[0], hex(output_buf[0])"
   ]
  },
  {
   "cell_type": "markdown",
   "metadata": {},
   "source": [
    "#### DMAIntErr=1\n",
    "- どうもTLASTを使ってないから(0固定)、エラーが立つらしい。\n",
    "  - [AXIDMAエラー-コミュニティフォーラム](https://forums.xilinx.com/t5/Embedded-Development-Tools/AXI-DMA-Error/td-p/226325)\n",
    "\n",
    "- エラー時は、次の転送を開始してくれないぽい。\n",
    "  → 毎回リセット入れる。"
   ]
  },
  {
   "cell_type": "code",
   "execution_count": 114,
   "metadata": {},
   "outputs": [
    {
     "data": {
      "text/plain": [
       "(Register(Halted=1, Idle=0, SGIncld=0, DMAIntErr=0, DMASlvErr=0, DMADecErr=0, SGIntErr=0, SGSlvErr=0, SGDecErr=0, IOC_Irq=1, Dly_Irq=0, Err_Irq=0, IRQThresholdSts=0, IRQDelaySts=0),\n",
       " Register(Halted=1, Idle=0, SGIncld=0, DMAIntErr=1, DMASlvErr=0, DMADecErr=0, SGIntErr=0, SGSlvErr=0, SGDecErr=0, IOC_Irq=1, Dly_Irq=0, Err_Irq=1, IRQThresholdSts=0, IRQDelaySts=0))"
      ]
     },
     "execution_count": 114,
     "metadata": {},
     "output_type": "execute_result"
    }
   ],
   "source": [
    "## DMA MM2S Status, \n",
    "OL.axi_dma_0.register_map.MM2S_DMASR, OL.axi_dma_0.register_map.S2MM_DMASR"
   ]
  },
  {
   "cell_type": "code",
   "execution_count": null,
   "metadata": {},
   "outputs": [],
   "source": []
  },
  {
   "cell_type": "code",
   "execution_count": 92,
   "metadata": {},
   "outputs": [
    {
     "data": {
      "text/plain": [
       "(Register(RS=0, Reset=0, Keyhole=0, Cyclic_BD_Enable=0, IOC_IrqEn=0, Dly_IrqEn=0, Err_IrqEn=0, IRQThreshold=1, IRQDelay=0),\n",
       " Register(RS=1, Reset=0, Keyhole=0, Cyclic_BD_Enable=0, IOC_IrqEn=0, Dly_IrqEn=0, Err_IrqEn=0, IRQThreshold=1, IRQDelay=0))"
      ]
     },
     "execution_count": 92,
     "metadata": {},
     "output_type": "execute_result"
    }
   ],
   "source": [
    "## DMA Soft Reset\n",
    "OL.axi_dma_0.register_map.MM2S_DMACR = 0x4\n",
    "OL.axi_dma_0.register_map.S2MM_DMACR = 0x4\n",
    "OL.axi_dma_0.register_map.MM2S_DMACR, OL.axi_dma_0.register_map.MM2S_DMACR"
   ]
  },
  {
   "cell_type": "code",
   "execution_count": null,
   "metadata": {},
   "outputs": [],
   "source": []
  },
  {
   "cell_type": "code",
   "execution_count": null,
   "metadata": {},
   "outputs": [],
   "source": []
  },
  {
   "cell_type": "code",
   "execution_count": null,
   "metadata": {},
   "outputs": [],
   "source": []
  },
  {
   "cell_type": "code",
   "execution_count": null,
   "metadata": {},
   "outputs": [],
   "source": []
  },
  {
   "cell_type": "code",
   "execution_count": null,
   "metadata": {},
   "outputs": [],
   "source": []
  },
  {
   "cell_type": "code",
   "execution_count": null,
   "metadata": {},
   "outputs": [],
   "source": []
  },
  {
   "cell_type": "code",
   "execution_count": 135,
   "metadata": {},
   "outputs": [
    {
     "name": "stdout",
     "output_type": "stream",
     "text": [
      "100/100: 0.977\n",
      "0.97\n",
      "CPU times: user 11.2 s, sys: 1.66 s, total: 12.8 s\n",
      "Wall time: 12 s\n"
     ]
    }
   ],
   "source": [
    "%%time\n",
    "N = 100 ## 2min\n",
    "# N = 1000 ## 2min\n",
    "ok = 0\n",
    "for n in range(N):\n",
    "    copy_mem(n)\n",
    "    start_dma()\n",
    "    wait_dma()\n",
    "    if test_y[n] == output_buf[0]:\n",
    "        ok += 1\n",
    "    ## print(output_buf[0])\n",
    "    print(f\"\\r{n+1}/{N}: {ok/(n+1):.4}\", end='')\n",
    "print()\n",
    "print(f\"{ok/N:.4}\")"
   ]
  },
  {
   "cell_type": "code",
   "execution_count": null,
   "metadata": {},
   "outputs": [],
   "source": []
  },
  {
   "cell_type": "code",
   "execution_count": null,
   "metadata": {},
   "outputs": [],
   "source": []
  },
  {
   "cell_type": "code",
   "execution_count": null,
   "metadata": {},
   "outputs": [],
   "source": []
  },
  {
   "cell_type": "code",
   "execution_count": null,
   "metadata": {},
   "outputs": [],
   "source": []
  },
  {
   "cell_type": "code",
   "execution_count": null,
   "metadata": {},
   "outputs": [],
   "source": []
  },
  {
   "cell_type": "markdown",
   "metadata": {},
   "source": [
    "### WeightとBiasをRAMにしていたときの名残。\n",
    "→ Layer0.b1に、アクセスすると、Jupyterがハングするので、ROMにするようにした。\n",
    "\n",
    "\n"
   ]
  },
  {
   "cell_type": "code",
   "execution_count": 18,
   "metadata": {},
   "outputs": [
    {
     "data": {
      "text/plain": [
       "'0, 1, 2, 3, 4, 5, 6, 7, 8, 9'"
      ]
     },
     "execution_count": 18,
     "metadata": {},
     "output_type": "execute_result"
    }
   ],
   "source": [
    "l = (1,2)\n",
    "import numpy as np\n",
    "n = np.arange(10)\n",
    "\", \".join([str(nn) for nn in n.tolist()])"
   ]
  },
  {
   "cell_type": "code",
   "execution_count": 2,
   "metadata": {},
   "outputs": [],
   "source": [
    "def write_mmio(file_name, mmio, offset):\n",
    "    ss2int = lambda s: int(s, 16)\n",
    "    with open(file_name, 'r') as f:\n",
    "        for i, l in enumerate(f.readlines()):\n",
    "            if i%4==0:\n",
    "                v = ss2int(l)\n",
    "            elif i%4==1:\n",
    "                v = v | (ss2int(l)<<8)\n",
    "            elif i%4==2:\n",
    "                v = v | (ss2int(l)<<16)\n",
    "            elif i%4==3:\n",
    "                v = v | (ss2int(l)<<24)\n",
    "#                 print(hex(v))\n",
    "                mmio.write(offset + i-3, v)\n"
   ]
  },
  {
   "cell_type": "code",
   "execution_count": 3,
   "metadata": {},
   "outputs": [
    {
     "data": {
      "text/plain": [
       "(4, 0, 0)"
      ]
     },
     "execution_count": 3,
     "metadata": {},
     "output_type": "execute_result"
    }
   ],
   "source": [
    "from pynq import MMIO\n",
    "nn = OL.ip_dict['nn_0']\n",
    "base_adr = nn['phys_addr']\n",
    "mmio = MMIO(base_adr, 0x2480f)\n",
    "\n",
    "hex(mmio.length)\n",
    "mmio.read(0), mmio.read(4), mmio.read(0x10000)"
   ]
  },
  {
   "cell_type": "code",
   "execution_count": null,
   "metadata": {},
   "outputs": [],
   "source": [
    "## Weight, BiasをLoad\n",
    "\n",
    "from pynq import MMIO\n",
    "\n",
    "nn = OL.ip_dict['nn_0']\n",
    "base_adr = nn['phys_addr']\n",
    "mmio = MMIO(base_adr, 0x2480f)\n",
    "\n",
    "\n",
    "## Layer0, W\n",
    "size = 28*28\n",
    "offset = nn['registers']['Memory_w0']['address_offset']\n",
    "for i in range(50):\n",
    "    write_mmio(f\"rom_hls/W1_{i}.mem\", mmio, offset + size*i)\n",
    "\n",
    "## Layer0, B\n",
    "size = 50\n",
    "offset = nn['registers']['Memory_b0']['address_offset']\n",
    "write_mmio(f\"rom_hls/b1.mem\", mmio, offset)\n",
    "\n",
    "# ## Layer1, W\n",
    "# size = 50\n",
    "# offset = nn['registers']['Memory_w1']['address_offset']\n",
    "# for i in range(100):\n",
    "#     write_mmio(f\"rom_hls/W2_{i}.mem\", MMIO(base_adr+offset + size*i, size))\n",
    "    \n",
    "# ## Layer1, B\n",
    "# size = 100\n",
    "# offset = nn['registers']['Memory_b1']['address_offset']\n",
    "# write_mmio(f\"rom_hls/b2.mem\", MMIO(base_adr+offset, size))\n",
    "\n",
    "# ## Layer2, W\n",
    "# size = 100\n",
    "# offset = nn['registers']['Memory_w2']['address_offset']\n",
    "# for i in range(10):\n",
    "#     write_mmio(f\"rom_hls/W3_{i}.mem\", MMIO(base_adr+offset + size*i, size))\n",
    "\n",
    "# ## Layer2, B\n",
    "# size = 10\n",
    "# offset = nn['registers']['Memory_b2']['address_offset']\n",
    "# write_mmio(f\"rom_hls/b3.mem\", MMIO(base_adr+offset, size))\n"
   ]
  },
  {
   "cell_type": "code",
   "execution_count": 4,
   "metadata": {},
   "outputs": [
    {
     "data": {
      "text/plain": [
       "'0x80022000'"
      ]
     },
     "execution_count": 4,
     "metadata": {},
     "output_type": "execute_result"
    }
   ],
   "source": [
    "hex(mmio.base_addr)"
   ]
  },
  {
   "cell_type": "code",
   "execution_count": null,
   "metadata": {},
   "outputs": [],
   "source": [
    "mmio.read_mm()"
   ]
  }
 ],
 "metadata": {
  "kernelspec": {
   "display_name": "Python 3",
   "language": "python",
   "name": "python3"
  },
  "language_info": {
   "codemirror_mode": {
    "name": "ipython",
    "version": 3
   },
   "file_extension": ".py",
   "mimetype": "text/x-python",
   "name": "python",
   "nbconvert_exporter": "python",
   "pygments_lexer": "ipython3",
   "version": "3.6.5"
  }
 },
 "nbformat": 4,
 "nbformat_minor": 2
}
