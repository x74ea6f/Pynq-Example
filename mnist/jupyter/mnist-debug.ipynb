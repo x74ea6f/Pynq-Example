{
 "cells": [
  {
   "cell_type": "markdown",
   "metadata": {},
   "source": [
    "## FPGA版 最初のデバッグ4データ"
   ]
  },
  {
   "cell_type": "code",
   "execution_count": 1,
   "metadata": {},
   "outputs": [
    {
     "data": {
      "application/javascript": [
       "\n",
       "try {\n",
       "require(['notebook/js/codecell'], function(codecell) {\n",
       "  codecell.CodeCell.options_default.highlight_modes[\n",
       "      'magic_text/x-csrc'] = {'reg':[/^%%microblaze/]};\n",
       "  Jupyter.notebook.events.one('kernel_ready.Kernel', function(){\n",
       "      Jupyter.notebook.get_cells().map(function(cell){\n",
       "          if (cell.cell_type == 'code'){ cell.auto_highlight(); } }) ;\n",
       "  });\n",
       "});\n",
       "} catch (e) {};\n"
      ]
     },
     "metadata": {},
     "output_type": "display_data"
    },
    {
     "name": "stdout",
     "output_type": "stream",
     "text": [
      "dict_keys(['axi_dma', 'axi_gpio_0']) <pynq.xlnk.Xlnk object at 0xafd76210>\n"
     ]
    }
   ],
   "source": [
    "## FPGA Load\n",
    "from pynq import Overlay\n",
    "OL = Overlay(\"/home/xilinx/pynq/overlays/my_design/test_mnist_wrapper.bit\")\n",
    "OL.download()\n",
    "XLNK = OL.processing_system7_0\n",
    "\n",
    "## show IPs\n",
    "print(OL.ip_dict.keys(), XLNK)"
   ]
  },
  {
   "cell_type": "code",
   "execution_count": 2,
   "metadata": {},
   "outputs": [],
   "source": [
    "## Assert i_cllear\n",
    "OL.axi_gpio_0.register_map.GPIO_DATA = 0x1\n",
    "OL.axi_gpio_0.register_map.GPIO_DATA = 0x0"
   ]
  },
  {
   "cell_type": "code",
   "execution_count": 3,
   "metadata": {},
   "outputs": [
    {
     "name": "stdout",
     "output_type": "stream",
     "text": [
      "0x18049000\n",
      "0x1804a000\n"
     ]
    }
   ],
   "source": [
    "IMAGE_NUM = 4\n",
    "## Allocate Memory\n",
    "input_buf = XLNK.cma_array([28*28*IMAGE_NUM//4])\n",
    "print(hex(input_buf.physical_address))\n",
    "output_buf = XLNK.cma_array([1*IMAGE_NUM//4])\n",
    "print(hex(output_buf.physical_address))"
   ]
  },
  {
   "cell_type": "code",
   "execution_count": 4,
   "metadata": {
    "scrolled": true
   },
   "outputs": [],
   "source": [
    "## Load Image\n",
    "import re\n",
    "\n",
    "def load_image(file_name, input_buf):\n",
    "    with open(file_name, 'r') as f:\n",
    "        val_s = 0\n",
    "        for i, l in enumerate(f.readlines()):\n",
    "            l = l.strip() ## remove return code\n",
    "            l = re.sub(\"\\s*\\/\\/.*$\", \"\", l) ## remove Comment\n",
    "            l = re.sub(\"\\s+\", \" \", l) ## Remove Space 2+\n",
    "            adr, val = l.split(\" \")  ## split Space\n",
    "            val = int(val, 16)\n",
    "\n",
    "            val_s = val_s | (val << (8*(i%4)))\n",
    "            if i%4==3:\n",
    "                ## print(f\"@{i//4}: 0x{val_s:08X}\")\n",
    "                input_buf[i//4] = val_s\n",
    "                ## input_buf[i//4] = (i//4)\n",
    "                val_s = 0\n",
    "\n",
    "image_size = (28*28)//4\n",
    "load_image(\"rom/image0.mem\", input_buf[image_size*0:image_size*1]) ## 7\n",
    "load_image(\"rom/image1.mem\", input_buf[image_size*1:image_size*2]) ## 2\n",
    "load_image(\"rom/image2.mem\", input_buf[image_size*2:image_size*3]) ## 1\n",
    "load_image(\"rom/image3.mem\", input_buf[image_size*3:image_size*4]) ## 0\n"
   ]
  },
  {
   "cell_type": "code",
   "execution_count": 5,
   "metadata": {},
   "outputs": [],
   "source": [
    "\n",
    "## ILAのために開始位置のデータ改変\n",
    "input_buf[image_size*0] = 0x1\n",
    "input_buf[image_size*1] = 0x2\n",
    "input_buf[image_size*2] = 0x3\n",
    "input_buf[image_size*3] = 0x4\n"
   ]
  },
  {
   "cell_type": "code",
   "execution_count": 6,
   "metadata": {},
   "outputs": [],
   "source": [
    "# for i in range(28*28//4):\n",
    "#     print(f\"{i}: {input_buf[i]:08X}\")"
   ]
  },
  {
   "cell_type": "code",
   "execution_count": 7,
   "metadata": {},
   "outputs": [],
   "source": [
    "# input_buf.dtype"
   ]
  },
  {
   "cell_type": "code",
   "execution_count": 8,
   "metadata": {},
   "outputs": [],
   "source": [
    "# ## Allocate Memory\n",
    "# input_buf = OL.processing_system7_0.cma_array([16])\n",
    "# print(hex(input_buf.physical_address))\n",
    "# output_buf = OL.processing_system7_0.cma_array([16])\n",
    "# print(hex(output_buf.physical_address))\n",
    "\n",
    "# for i in range(16):\n",
    "#     output_buf[i] = 234\n",
    "#     input_buf[i] = i+16\n",
    "\n",
    "# OL.copy_mem_0.register_map.inputBaseMemAdr_V = input_buf.physical_address\n",
    "# OL.copy_mem_0.register_map.outputBaseMemAdr_V = output_buf.physical_address\n",
    "# OL.copy_mem_0.register_map.loadSize_V = 12\n",
    "\n",
    "# OL.copy_mem_0.register_map.CTRL.AP_START = 0x1\n",
    "\n",
    "# for i in range(16):\n",
    "#     print(i, input_buf[i], output_buf[i])"
   ]
  },
  {
   "cell_type": "code",
   "execution_count": 9,
   "metadata": {},
   "outputs": [],
   "source": [
    "# for i in range(28*28):\n",
    "#     input_buf[i] = (\n",
    "#         (((i*4+3)&0xFF)<<24)|\n",
    "#         (((i*4+2)&0xFF)<<16)|\n",
    "#         (((i*4+1)&0xFF)<<8)|\n",
    "#         (((i*4+0)&0xFF)<<0))\n",
    "#     print(hex(input_buf[i])\n"
   ]
  },
  {
   "cell_type": "code",
   "execution_count": 10,
   "metadata": {},
   "outputs": [
    {
     "name": "stdout",
     "output_type": "stream",
     "text": [
      "[4294967295]\n"
     ]
    }
   ],
   "source": [
    "## Check Output Buf\n",
    "for i in range(IMAGE_NUM//4):\n",
    "    output_buf[i] = 0xFFFFFFFF\n",
    "print(output_buf)"
   ]
  },
  {
   "cell_type": "code",
   "execution_count": 11,
   "metadata": {},
   "outputs": [],
   "source": [
    "## DMA Control\n",
    "## Stop\n",
    "OL.axi_dma.register_map.MM2S_DMACR = 0x0\n",
    "OL.axi_dma.register_map.S2MM_DMACR = 0x0\n",
    "\n",
    "## Run\n",
    "OL.axi_dma.register_map.MM2S_DMACR = 0x1\n",
    "OL.axi_dma.register_map.S2MM_DMACR = 0x1\n",
    "\n",
    "## Address\n",
    "OL.axi_dma.register_map.MM2S_SA = input_buf.physical_address\n",
    "OL.axi_dma.register_map.S2MM_DA = output_buf.physical_address\n",
    "\n",
    "## Size\n",
    "OL.axi_dma.register_map.MM2S_LENGTH = 28*28*4\n",
    "OL.axi_dma.register_map.S2MM_LENGTH = 1*4\n"
   ]
  },
  {
   "cell_type": "code",
   "execution_count": 12,
   "metadata": {},
   "outputs": [
    {
     "name": "stdout",
     "output_type": "stream",
     "text": [
      "0x00010207\n"
     ]
    }
   ],
   "source": [
    "## Check Output Buf\n",
    "print(f\"0x{output_buf[0]:08X}\")"
   ]
  },
  {
   "cell_type": "code",
   "execution_count": 13,
   "metadata": {},
   "outputs": [
    {
     "data": {
      "text/plain": [
       "Register(Halted=0, Idle=1, SGIncld=0, DMAIntErr=0, DMASlvErr=0, DMADecErr=0, SGIntErr=0, SGSlvErr=0, SGDecErr=0, IOC_Irq=1, Dly_Irq=0, Err_Irq=0, IRQThresholdSts=0, IRQDelaySts=0)"
      ]
     },
     "execution_count": 13,
     "metadata": {},
     "output_type": "execute_result"
    }
   ],
   "source": [
    "## DMA MM2S Status\n",
    "OL.axi_dma.register_map.MM2S_DMASR"
   ]
  },
  {
   "cell_type": "code",
   "execution_count": 31,
   "metadata": {},
   "outputs": [
    {
     "data": {
      "text/plain": [
       "Register(Halted=0, Idle=1, SGIncld=0, DMAIntErr=0, DMASlvErr=0, DMADecErr=0, SGIntErr=0, SGSlvErr=0, SGDecErr=0, IOC_Irq=1, Dly_Irq=0, Err_Irq=0, IRQThresholdSts=0, IRQDelaySts=0)"
      ]
     },
     "execution_count": 31,
     "metadata": {},
     "output_type": "execute_result"
    }
   ],
   "source": [
    "## DMA S2MM Status\n",
    "OL.axi_dma.register_map.S2MM_DMASR"
   ]
  },
  {
   "cell_type": "code",
   "execution_count": 32,
   "metadata": {},
   "outputs": [
    {
     "data": {
      "text/plain": [
       "(Register(RS=0, Reset=0, Keyhole=0, Cyclic_BD_Enable=0, IOC_IrqEn=0, Dly_IrqEn=0, Err_IrqEn=0, IRQThreshold=1, IRQDelay=0),\n",
       " Register(RS=0, Reset=0, Keyhole=0, Cyclic_BD_Enable=0, IOC_IrqEn=0, Dly_IrqEn=0, Err_IrqEn=0, IRQThreshold=1, IRQDelay=0))"
      ]
     },
     "execution_count": 32,
     "metadata": {},
     "output_type": "execute_result"
    }
   ],
   "source": [
    "## DMA Soft Reset\n",
    "OL.axi_dma.register_map.MM2S_DMACR = 0x4\n",
    "OL.axi_dma.register_map.S2MM_DMACR = 0x4\n",
    "OL.axi_dma.register_map.MM2S_DMACR, OL.axi_dma.register_map.MM2S_DMACR"
   ]
  },
  {
   "cell_type": "markdown",
   "metadata": {},
   "source": [
    "---"
   ]
  },
  {
   "cell_type": "markdown",
   "metadata": {},
   "source": [
    "# FPGA版 1転送 Loop"
   ]
  },
  {
   "cell_type": "code",
   "execution_count": 33,
   "metadata": {},
   "outputs": [
    {
     "name": "stdout",
     "output_type": "stream",
     "text": [
      "dict_keys(['axi_dma', 'axi_gpio_0']) <pynq.xlnk.Xlnk object at 0xafdb6210>\n"
     ]
    }
   ],
   "source": [
    "## FPGA Load\n",
    "from pynq import Overlay\n",
    "OL = Overlay(\"/home/xilinx/pynq/overlays/my_design/test_mnist_wrapper.bit\")\n",
    "OL.download()\n",
    "XLNK = OL.processing_system7_0\n",
    "\n",
    "## show IPs\n",
    "print(OL.ip_dict.keys(), XLNK)"
   ]
  },
  {
   "cell_type": "code",
   "execution_count": 34,
   "metadata": {},
   "outputs": [],
   "source": [
    "import mnist\n",
    "import numpy as np\n",
    "test_x = mnist.test_images()\n",
    "test_y = mnist.test_labels()\n",
    "\n",
    "test_x = test_x.reshape(10000, 28*28)"
   ]
  },
  {
   "cell_type": "code",
   "execution_count": 35,
   "metadata": {},
   "outputs": [
    {
     "name": "stdout",
     "output_type": "stream",
     "text": [
      "1\n",
      "0x1804b000\n",
      "0x1804c000\n"
     ]
    }
   ],
   "source": [
    "## Allocate Memory\n",
    "IMAGE_NUM = 1\n",
    "print(IMAGE_NUM)\n",
    "input_buf = XLNK.cma_array([28*28*IMAGE_NUM], np.uint8)\n",
    "print(hex(input_buf.physical_address))\n",
    "output_buf = XLNK.cma_array([1*IMAGE_NUM], np.uint8)\n",
    "print(hex(output_buf.physical_address))"
   ]
  },
  {
   "cell_type": "code",
   "execution_count": 36,
   "metadata": {},
   "outputs": [],
   "source": [
    "def copy_mem(n):\n",
    "    ## Write inpu_buf(DDR)\n",
    "    XLNK.cma_memcopy(input_buf, test_x[n], 28*28*1)    \n",
    "\n",
    "def start_dma():\n",
    "    ## DMA Control\n",
    "    ## Stop\n",
    "    OL.axi_dma.register_map.MM2S_DMACR = 0x0\n",
    "    OL.axi_dma.register_map.S2MM_DMACR = 0x0\n",
    "\n",
    "    ## Run\n",
    "    OL.axi_dma.register_map.MM2S_DMACR = 0x1\n",
    "    OL.axi_dma.register_map.S2MM_DMACR = 0x1\n",
    "\n",
    "    ## Address\n",
    "    OL.axi_dma.register_map.MM2S_SA = input_buf.physical_address\n",
    "    OL.axi_dma.register_map.S2MM_DA = output_buf.physical_address\n",
    "\n",
    "    ## Size\n",
    "    OL.axi_dma.register_map.MM2S_LENGTH = 28*28*IMAGE_NUM\n",
    "    OL.axi_dma.register_map.S2MM_LENGTH = 1*IMAGE_NUM\n",
    "\n",
    "def wait_dma():\n",
    "    i = 0\n",
    "    while i<100:\n",
    "        st = OL.axi_dma.register_map.S2MM_DMASR.Idle\n",
    "        if st:\n",
    "            break\n",
    "        i += 1\n"
   ]
  },
  {
   "cell_type": "code",
   "execution_count": 37,
   "metadata": {},
   "outputs": [
    {
     "name": "stdout",
     "output_type": "stream",
     "text": [
      "1000/1000\n",
      "0.927\n",
      "CPU times: user 1min 16s, sys: 12 s, total: 1min 28s\n",
      "Wall time: 1min 22s\n"
     ]
    }
   ],
   "source": [
    "%%time\n",
    "N = 1000\n",
    "ok = 0\n",
    "for n in range(N):\n",
    "    copy_mem(n)\n",
    "    start_dma()\n",
    "    wait_dma()\n",
    "    if test_y[n] == output_buf[0]:\n",
    "        ok += 1\n",
    "    ## print(output_buf[0])\n",
    "    print(f\"\\r{n+1}/{N}\", end='')\n",
    "print()\n",
    "print(ok/N)"
   ]
  },
  {
   "cell_type": "markdown",
   "metadata": {},
   "source": [
    "## TMP"
   ]
  },
  {
   "cell_type": "code",
   "execution_count": 14,
   "metadata": {},
   "outputs": [],
   "source": [
    "import neuralnet_mnist_int\n",
    "import numpy as np"
   ]
  },
  {
   "cell_type": "code",
   "execution_count": 17,
   "metadata": {},
   "outputs": [
    {
     "data": {
      "text/plain": [
       "dict_keys(['b2', 'W1', 'b1', 'W2', 'W3', 'b3'])"
      ]
     },
     "execution_count": 17,
     "metadata": {},
     "output_type": "execute_result"
    }
   ],
   "source": [
    "network = neuralnet_mnist_int.init_network()\n",
    "network.keys()"
   ]
  },
  {
   "cell_type": "code",
   "execution_count": 20,
   "metadata": {},
   "outputs": [
    {
     "data": {
      "text/plain": [
       "array([[ -1,  -2,  -3, ...,   5, -11,  -3],\n",
       "       [ -2,  -4,  -3, ...,   4,   7,   3],\n",
       "       [ -3,   0,  -4, ...,   2,   3,   8],\n",
       "       ...,\n",
       "       [  5,  -7, -16, ...,  -2,   2,   2],\n",
       "       [ -1,   5,  -3, ...,   6,  -3,   6],\n",
       "       [  0, -17,   2, ...,  -8,   1, -10]])"
      ]
     },
     "execution_count": 20,
     "metadata": {},
     "output_type": "execute_result"
    }
   ],
   "source": [
    "w1 = network['W1']\n",
    "w1"
   ]
  },
  {
   "cell_type": "code",
   "execution_count": 21,
   "metadata": {},
   "outputs": [
    {
     "data": {
      "text/plain": [
       "array([[ -27,    4, -113, ...,    9,   35,   10],\n",
       "       [  76,   -8,  -22, ...,  -12,  -24,   75],\n",
       "       [  16,  161,    5, ...,   12,   68,  -33],\n",
       "       ...,\n",
       "       [ -47,  -27,   64, ...,   15,   29,   73],\n",
       "       [  25,   23,   -9, ...,   38,  -14,   -1],\n",
       "       [  -5,  -13,    1, ..., -135, -103,    2]])"
      ]
     },
     "execution_count": 21,
     "metadata": {},
     "output_type": "execute_result"
    }
   ],
   "source": [
    "w2 = network['W2']\n",
    "w2"
   ]
  },
  {
   "cell_type": "code",
   "execution_count": 29,
   "metadata": {},
   "outputs": [
    {
     "name": "stdout",
     "output_type": "stream",
     "text": [
      "(784, 50) 123 -101 0.15943877551020408\n",
      "(50, 100) 219 -256 -0.2104\n"
     ]
    }
   ],
   "source": [
    "print(w1.shape, w1.max(), w1.min(), w1.mean())\n",
    "print(w2.shape, w2.max(), w2.min(), w2.mean())\n"
   ]
  },
  {
   "cell_type": "code",
   "execution_count": 30,
   "metadata": {},
   "outputs": [],
   "source": [
    "b1 = network['b1']\n",
    "b2 = network['b2']"
   ]
  },
  {
   "cell_type": "code",
   "execution_count": 31,
   "metadata": {},
   "outputs": [
    {
     "data": {
      "text/plain": [
       "array([ -3, -18,   0,  31,  29,  -1,  10, -21,   7,   5,  50,  11, -16,\n",
       "       -13,   2,   7,  10,  17, -19,  17, -23,  14,  -9,   5,   9,  -7,\n",
       "        -4,  17,  13,  17,  16,  -5,  -4,   4,   4,  -4, -18,  -4,  -5,\n",
       "        -2,  11, -30,   7, -19,  -1, -22,  -4,   8,  -4, -19,  -6,  -9,\n",
       "       -13,  -5,  17,   6,   0,   2,  10,  -7,  18,   0,   5,  10, -12,\n",
       "         6,  15,  21,   0,  -7, -16,  12, -30,   9, -10,   8,  -8, -34,\n",
       "         0,   0,  11,  -6,  -5,   5,   2,   4,  -2,  14,  12, -11,  19,\n",
       "        12,  17,  10,   0,   1, -24, -13,   5, -11])"
      ]
     },
     "execution_count": 31,
     "metadata": {},
     "output_type": "execute_result"
    }
   ],
   "source": [
    "b2"
   ]
  }
 ],
 "metadata": {
  "kernelspec": {
   "display_name": "Python 3",
   "language": "python",
   "name": "python3"
  },
  "language_info": {
   "codemirror_mode": {
    "name": "ipython",
    "version": 3
   },
   "file_extension": ".py",
   "mimetype": "text/x-python",
   "name": "python",
   "nbconvert_exporter": "python",
   "pygments_lexer": "ipython3",
   "version": "3.6.5"
  }
 },
 "nbformat": 4,
 "nbformat_minor": 2
}
